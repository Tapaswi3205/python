{
 "cells": [
  {
   "cell_type": "code",
   "execution_count": 2,
   "id": "082767a2-fa02-4ffc-8262-d906f82444b1",
   "metadata": {},
   "outputs": [
    {
     "name": "stdin",
     "output_type": "stream",
     "text": [
      "enter the value of a: 4\n",
      "enter the value of b: 5\n"
     ]
    },
    {
     "name": "stdout",
     "output_type": "stream",
     "text": [
      "sum of two numbers: 9\n"
     ]
    }
   ],
   "source": [
    "# user defined functions with arguments\n",
    "def summate(x,y):\n",
    "    print(\"sum of two numbers:\",x+y)\n",
    "a=int(input(\"enter the value of a:\"))\n",
    "b=int(input(\"enter the value of b:\"))\n",
    "summate(a,b)"
   ]
  },
  {
   "cell_type": "code",
   "execution_count": 3,
   "id": "277be60d-eaa7-4ec0-bfa5-959a92fc95eb",
   "metadata": {},
   "outputs": [
    {
     "name": "stdin",
     "output_type": "stream",
     "text": [
      "enter the value of a: 11\n",
      "enter the value of b: 22\n"
     ]
    },
    {
     "name": "stdout",
     "output_type": "stream",
     "text": [
      "33\n"
     ]
    }
   ],
   "source": [
    "# user defined functions with arguments and return values...\n",
    "def summate(x,y):\n",
    "    return x+y\n",
    "a=int(input(\"enter the value of a:\"))\n",
    "b=int(input(\"enter the value of b:\"))\n",
    "print(summate(a,b))"
   ]
  },
  {
   "cell_type": "code",
   "execution_count": 6,
   "id": "024657da-3ad9-4b25-9fa4-188efc47871e",
   "metadata": {},
   "outputs": [
    {
     "name": "stdin",
     "output_type": "stream",
     "text": [
      "enter the base 5\n"
     ]
    },
    {
     "name": "stdout",
     "output_type": "stream",
     "text": [
      "25\n",
      "125\n"
     ]
    }
   ],
   "source": [
    "#default arg\n",
    "def power(base,expo=2):\n",
    "    return base**expo\n",
    "num=int(input(\"enter the base\"))\n",
    "print(power(num))\n",
    "print(power(num,3))"
   ]
  },
  {
   "cell_type": "code",
   "execution_count": 11,
   "id": "ff4d8447-5678-4ba5-a2cb-6496060d9324",
   "metadata": {},
   "outputs": [
    {
     "name": "stdin",
     "output_type": "stream",
     "text": [
      "enter a: 5\n",
      "enter b: 6\n"
     ]
    },
    {
     "name": "stdout",
     "output_type": "stream",
     "text": [
      "sum: 11\n",
      "sub -1\n",
      "prodct 30\n"
     ]
    }
   ],
   "source": [
    "#multiple return values from a single function\n",
    "def operate(a,b):\n",
    "    return a+b,a-b,a*b\n",
    "a=int(input(\"enter a:\"))\n",
    "b=int(input(\"enter b:\"))\n",
    "sum,diff,prod=operate(a,b)\n",
    "print(\"sum:\",sum)\n",
    "print(\"sub\",diff)\n",
    "print(\"prodct\",prod)\n",
    "     "
   ]
  },
  {
   "cell_type": "code",
   "execution_count": 12,
   "id": "6b4b61ce-5a70-47ae-a1f4-dcc29731c6ec",
   "metadata": {},
   "outputs": [
    {
     "name": "stdin",
     "output_type": "stream",
     "text": [
      "enter a num: 5\n"
     ]
    },
    {
     "name": "stdout",
     "output_type": "stream",
     "text": [
      "25\n"
     ]
    }
   ],
   "source": [
    "# anonumus function lambda\n",
    "# lambda var:operation\n",
    "num=int(input(\"enter a num:\"))\n",
    "square=lambda num:num*num\n",
    "print(square(num))"
   ]
  },
  {
   "cell_type": "code",
   "execution_count": 13,
   "id": "74af5e30-0a30-4437-9970-31ea3cec1c33",
   "metadata": {},
   "outputs": [
    {
     "name": "stdout",
     "output_type": "stream",
     "text": [
      "outer function\n",
      "inner function\n"
     ]
    }
   ],
   "source": [
    "# nested function\n",
    "def hi():\n",
    "    def hello():\n",
    "        print(\"inner function\")\n",
    "    print(\"outer function\")\n",
    "    hello()\n",
    "hi()"
   ]
  },
  {
   "cell_type": "code",
   "execution_count": 15,
   "id": "9d3bd66d-b70b-43cf-9b21-e1ab7bc26e50",
   "metadata": {},
   "outputs": [
    {
     "name": "stdin",
     "output_type": "stream",
     "text": [
      "enter a: 6\n",
      "enter b: 5\n"
     ]
    },
    {
     "name": "stdout",
     "output_type": "stream",
     "text": [
      "add: 11\n",
      "sub: 1\n"
     ]
    }
   ],
   "source": [
    "# nested function\n",
    "def operation(a,b):\n",
    "    def add():\n",
    "        return a+b\n",
    "    def sub():\n",
    "        return a-b\n",
    "    print(\"add:\",add())\n",
    "    print(\"sub:\",sub())\n",
    "a=int(input(\"enter a:\"))\n",
    "b=int(input(\"enter b:\"))\n",
    "operation(a,b)"
   ]
  },
  {
   "cell_type": "code",
   "execution_count": 19,
   "id": "2eee3660-7bd7-4438-b825-4202024ab854",
   "metadata": {},
   "outputs": [
    {
     "name": "stdin",
     "output_type": "stream",
     "text": [
      "enter a value 5\n",
      "enter b value 3\n"
     ]
    },
    {
     "name": "stdout",
     "output_type": "stream",
     "text": [
      "power: 125\n",
      "factorial: 120\n"
     ]
    }
   ],
   "source": [
    "# write a program to caluculate the factorial and power of given numbers by creating the nested loop with in loop where a=5 and\n",
    "#b=3 caliculate the factorial for a . caluculate the power for 5**3 output factorial=120 power=125\n",
    "\n",
    "def operations(a,b):\n",
    "    def power(a,b):\n",
    "        return a**b\n",
    "    def fact(a):\n",
    "        op=1\n",
    "        for i in range (1,a+1):\n",
    "            op *=i\n",
    "        return op\n",
    "    print(\"power:\",power(a,b))\n",
    "    print(\"factorial:\",fact(a))\n",
    "a=int(input(\"enter a value\"))\n",
    "b=int(input(\"enter b value\"))\n",
    "operations(a,b)"
   ]
  },
  {
   "cell_type": "code",
   "execution_count": 20,
   "id": "ba05f696-e562-4a53-bdea-ac3f3039e7a7",
   "metadata": {},
   "outputs": [
    {
     "name": "stdin",
     "output_type": "stream",
     "text": [
      "enter the number: 5\n"
     ]
    },
    {
     "name": "stdout",
     "output_type": "stream",
     "text": [
      "factorial 120\n"
     ]
    }
   ],
   "source": [
    "# recursive factorial\n",
    "def fact(n):\n",
    "    if n==0:\n",
    "        return 1\n",
    "    else:\n",
    "        return n*fact(n-1)\n",
    "num=int(input(\"enter the number:\"))\n",
    "print(\"factorial\",fact(num))"
   ]
  },
  {
   "cell_type": "code",
   "execution_count": 25,
   "id": "61af0acb-7361-475c-b944-114db2628449",
   "metadata": {},
   "outputs": [
    {
     "name": "stdin",
     "output_type": "stream",
     "text": [
      "enter the number: 4\n"
     ]
    },
    {
     "name": "stdout",
     "output_type": "stream",
     "text": [
      "factorial 24\n",
      "super factorial 288\n"
     ]
    }
   ],
   "source": [
    "#factorial and super factorial  (recurssive)\n",
    "def fact(n):\n",
    "    if n==0 or n==1:\n",
    "        return 1\n",
    "    return n*fact(n-1)\n",
    "def sfact(n):\n",
    "    if n==1:\n",
    "        return 1\n",
    "    return fact(n) *sfact(n-1)\n",
    "num=int(input(\"enter the number:\"))\n",
    "print(\"factorial\",fact(num))\n",
    "print(\"super factorial\",sfact(num))"
   ]
  },
  {
   "cell_type": "code",
   "execution_count": 4,
   "id": "f61bc825-6d4d-442f-8a3d-0521e2cb416e",
   "metadata": {},
   "outputs": [
    {
     "name": "stdout",
     "output_type": "stream",
     "text": [
      "10\n",
      "100\n"
     ]
    }
   ],
   "source": [
    "#scope and global variables\n",
    "num=10\n",
    "print(num)\n",
    "def modify():\n",
    "    global num\n",
    "    num=100\n",
    "modify()\n",
    "print(num)"
   ]
  },
  {
   "cell_type": "code",
   "execution_count": 8,
   "id": "73eeb0c6-2d12-4f05-9e76-0a20750e1d1a",
   "metadata": {},
   "outputs": [
    {
     "name": "stdout",
     "output_type": "stream",
     "text": [
      "initial state: False\n",
      "state after 1st toggle:True\n",
      "state after 2nd toggle:False\n"
     ]
    }
   ],
   "source": [
    "# toggle state function\n",
    "# toggling a global flag\n",
    "is_active = False\n",
    "def toggle_state():\n",
    "    global is_active\n",
    "    is_active =not is_active\n",
    "    return is_active\n",
    "print(f\"initial state: {is_active}\")\n",
    "toggle_state()\n",
    "print(f\"state after 1st toggle:{is_active}\")\n",
    "toggle_state()\n",
    "print(f\"state after 2nd toggle:{is_active}\")"
   ]
  },
  {
   "cell_type": "code",
   "execution_count": 1,
   "id": "de967665-ff97-47ba-90b1-4b8448bc1d58",
   "metadata": {},
   "outputs": [
    {
     "name": "stdin",
     "output_type": "stream",
     "text": [
      "Enter a: 3\n",
      "Enter b: 5\n"
     ]
    },
    {
     "name": "stdout",
     "output_type": "stream",
     "text": [
      "8\n"
     ]
    }
   ],
   "source": [
    "# annotations\n",
    "def add(a:int,b:int)->int:\n",
    "    return a+b\n",
    "a=int(input(\"Enter a:\"))\n",
    "b=int(input(\"Enter b:\"))\n",
    "print(add(a,b))"
   ]
  },
  {
   "cell_type": "code",
   "execution_count": 3,
   "id": "a42a75c4-550a-4ead-b4bc-e858b775615c",
   "metadata": {},
   "outputs": [
    {
     "name": "stdin",
     "output_type": "stream",
     "text": [
      "Enter a: 2\n",
      "Enter b: 3\n"
     ]
    },
    {
     "name": "stdout",
     "output_type": "stream",
     "text": [
      "6\n"
     ]
    },
    {
     "name": "stdin",
     "output_type": "stream",
     "text": [
      "Enter x: 4\n",
      "Enter y: 5\n"
     ]
    },
    {
     "name": "stdout",
     "output_type": "stream",
     "text": [
      "20\n"
     ]
    }
   ],
   "source": [
    " '''write a program to find the area  of rectangle of 2 values ,which was associated with a single anotation and return the values accodingly \n",
    "a=4 , b=5 , x=2 , y=4 '''\n",
    "\n",
    "def rect(a:int,b:int)-> int:\n",
    "    return a*b\n",
    "a=int(input(\"Enter a:\"))\n",
    "b=int(input(\"Enter b:\"))\n",
    "print (rect(a,b))\n",
    "a=int(input(\"Enter x:\"))\n",
    "b=int(input(\"Enter y:\"))\n",
    "print (rect(a,b))"
   ]
  },
  {
   "cell_type": "code",
   "execution_count": 12,
   "id": "6e473580-cf8e-4d3a-893e-0346902ee493",
   "metadata": {},
   "outputs": [
    {
     "name": "stdout",
     "output_type": "stream",
     "text": [
      "vijay Mark steve\n",
      "299-cse-eee\n"
     ]
    }
   ],
   "source": [
    "from typing import List,Optional\n",
    "def names(n:List[str],separator:Optional[str]=' ')->str:\n",
    "    return separator.join(n)\n",
    "print(names(['vijay','Mark','steve']))\n",
    "print(names(['299','cse','eee'],separator='-'))"
   ]
  },
  {
   "cell_type": "code",
   "execution_count": 15,
   "id": "07373417-2696-45f2-85ee-faddca08731a",
   "metadata": {},
   "outputs": [
    {
     "name": "stdin",
     "output_type": "stream",
     "text": [
      "enter numbers separated by space: -2 -3 8 10\n"
     ]
    },
    {
     "name": "stdout",
     "output_type": "stream",
     "text": [
      "sum:13.0\n"
     ]
    }
   ],
   "source": [
    "'''tuple arg keyword functions program to find the sum of n user input values by tuple args syntax:def udn(*args)'''\n",
    "\n",
    "def sumnum(*args):\n",
    "    return sum(args)\n",
    "nums=input(\"enter numbers separated by space:\")\n",
    "numbers=[float(x)for x in nums.split()]\n",
    "result=sumnum(*numbers)\n",
    "print(f\"sum:{result}\")"
   ]
  },
  {
   "cell_type": "code",
   "execution_count": 19,
   "id": "f8329079-5eba-48fc-95f4-c69241d6f81e",
   "metadata": {},
   "outputs": [
    {
     "name": "stdin",
     "output_type": "stream",
     "text": [
      "enter numbers separated by space: 3 8 2 4 5 6 9 2 \n"
     ]
    },
    {
     "name": "stdout",
     "output_type": "stream",
     "text": [
      "sorted:[2, 2, 3, 4, 5, 6, 8, 9]\n",
      "descending: [9, 8, 6, 5, 4, 3, 2, 2]\n"
     ]
    }
   ],
   "source": [
    "def sortnum(*args):\n",
    "    return sorted(args)\n",
    "nums=input(\"enter numbers separated by space:\")\n",
    "numbers=[int(x)for x in nums.split()]\n",
    "result=sortnum(*numbers)\n",
    "print(f\"sorted:{result}\")\n",
    "x=result[::-1]\n",
    "print (\"descending:\",x)"
   ]
  },
  {
   "cell_type": "code",
   "execution_count": 21,
   "id": "978155ae-373d-4084-be93-5d1cf05f30af",
   "metadata": {},
   "outputs": [
    {
     "name": "stdout",
     "output_type": "stream",
     "text": [
      "name:klaus\n",
      "age:400\n"
     ]
    }
   ],
   "source": [
    "'''keyword args \n",
    "* - numbers\n",
    "**args -> string with value using a dictionary key - value pair'''\n",
    "def info(**kwargs):\n",
    "    for key, value in kwargs.items():\n",
    "        print(f\"{key}:{value}\")\n",
    "info(name='klaus',age=400)"
   ]
  },
  {
   "cell_type": "code",
   "execution_count": 30,
   "id": "7f62d206-39ba-4cae-aa61-f107ab6e5790",
   "metadata": {},
   "outputs": [
    {
     "name": "stdout",
     "output_type": "stream",
     "text": [
      "Vampire Dairies\n",
      "name=>Klaus\n",
      "age=>400\n",
      "city=>Mystic Fall\n",
      "language=>English\n"
     ]
    }
   ],
   "source": [
    "def info(hi,**kwargs):\n",
    "    print(hi)\n",
    "    for key, value in kwargs.items():\n",
    "        print(f\"{key}=>{value}\")\n",
    "info(\"Vampire Dairies\",name='Klaus',age=400,city='Mystic Fall',language='English')"
   ]
  },
  {
   "cell_type": "code",
   "execution_count": null,
   "id": "915b73d2-4f85-4bac-a617-bfef581c951c",
   "metadata": {},
   "outputs": [],
   "source": [
    "# 3 marks with differnt subjects\n",
    "\n",
    "def total_marks(**kwargs):\n",
    "    total=sum(kwargs.values())\n",
    "    print(\"Subject-wise Marks\")"
   ]
  },
  {
   "cell_type": "code",
   "execution_count": null,
   "id": "a6330f00-9491-4950-aa18-fd4914e6c17c",
   "metadata": {},
   "outputs": [],
   "source": [
    "'''recursions function calling without any condition \n",
    "tail recursion\n",
    "head recursion\n",
    "tree recursion\n",
    "direct recursion\n",
    "indirect recursion\n",
    "nested recursion\n",
    "linear recursion'''"
   ]
  },
  {
   "cell_type": "code",
   "execution_count": 3,
   "id": "9e3db6e1-9163-4191-b475-06ba2ee30fa2",
   "metadata": {},
   "outputs": [
    {
     "name": "stdin",
     "output_type": "stream",
     "text": [
      "enter the value: 5\n"
     ]
    },
    {
     "name": "stdout",
     "output_type": "stream",
     "text": [
      "1\n",
      "2\n",
      "3\n",
      "4\n",
      "5\n"
     ]
    }
   ],
   "source": [
    "#linear /head/direct\n",
    "def hrec(n):\n",
    "    if n==0:\n",
    "        return\n",
    "    hrec(n-1)\n",
    "    print(n)\n",
    "num=int(input(\"enter the value:\"))\n",
    "hrec(num)"
   ]
  },
  {
   "cell_type": "code",
   "execution_count": 6,
   "id": "051b7bec-5d44-46c5-96c9-aa7747ac595a",
   "metadata": {},
   "outputs": [
    {
     "name": "stdin",
     "output_type": "stream",
     "text": [
      "enter the value: 5\n"
     ]
    },
    {
     "name": "stdout",
     "output_type": "stream",
     "text": [
      "5\n",
      "4\n",
      "3\n",
      "2\n",
      "1\n"
     ]
    }
   ],
   "source": [
    "'''tail recursion'''\n",
    "def hrec(n):\n",
    "    if n==0:\n",
    "        return\n",
    "    print(n)\n",
    "    return hrec(n-1)\n",
    "num=int(input(\"enter the value:\"))\n",
    "hrec(num)"
   ]
  },
  {
   "cell_type": "code",
   "execution_count": 8,
   "id": "044c09c2-45e3-4f3d-a944-c0804c124ff6",
   "metadata": {},
   "outputs": [
    {
     "name": "stdin",
     "output_type": "stream",
     "text": [
      "enter the number: 4\n"
     ]
    },
    {
     "name": "stdout",
     "output_type": "stream",
     "text": [
      "factorial 24\n"
     ]
    }
   ],
   "source": [
    "#linear recursion factorial\n",
    "def fact(n):\n",
    "    if n==1:\n",
    "        return 1\n",
    "    return n*fact(n-1)\n",
    "num=int(input(\"enter the number:\"))\n",
    "print(\"factorial\",fact(num))"
   ]
  },
  {
   "cell_type": "code",
   "execution_count": 12,
   "id": "20763569-d146-4d45-98c9-0d1f78eac963",
   "metadata": {},
   "outputs": [
    {
     "name": "stdin",
     "output_type": "stream",
     "text": [
      "enter the number: 10\n"
     ]
    },
    {
     "name": "stdout",
     "output_type": "stream",
     "text": [
      "55\n"
     ]
    }
   ],
   "source": [
    "'''sum of n digits'''\n",
    "def sum(n):\n",
    "    if n==0:\n",
    "        return 0\n",
    "    num=sum(n-1)\n",
    "    return n+num\n",
    "n=int(input(\"enter the number:\"))\n",
    "print(sum(n))    "
   ]
  },
  {
   "cell_type": "code",
   "execution_count": 13,
   "id": "04ed4f33-848c-4d79-a3b4-7bd2ca675202",
   "metadata": {},
   "outputs": [
    {
     "name": "stdin",
     "output_type": "stream",
     "text": [
      "enter the number: 1234\n"
     ]
    },
    {
     "name": "stdout",
     "output_type": "stream",
     "text": [
      "10\n"
     ]
    }
   ],
   "source": [
    "'''sum of digits'''\n",
    "def sum(n):\n",
    "    if n==0:\n",
    "        return 0\n",
    "    return (n%10)+sum(n//10)\n",
    "n=int(input(\"enter the number:\"))\n",
    "print(sum(n))    "
   ]
  },
  {
   "cell_type": "code",
   "execution_count": 16,
   "id": "dae0ced1-31c3-47ad-9fe9-b3836777d557",
   "metadata": {},
   "outputs": [
    {
     "name": "stdin",
     "output_type": "stream",
     "text": [
      "enter the value of n: 5\n"
     ]
    },
    {
     "name": "stdout",
     "output_type": "stream",
     "text": [
      "one: 5\n",
      "two: 4\n",
      "one: 2\n",
      "two: 1\n"
     ]
    }
   ],
   "source": [
    "'''indirect recursion'''\n",
    "def one(n):\n",
    "    if n>0:\n",
    "        print(\"one:\",n)\n",
    "        two(n-1)\n",
    "def two(n):\n",
    "    if n>0:\n",
    "        print(\"two:\",n)\n",
    "        one(n//2)\n",
    "num= int(input(\"enter the value of n:\"))\n",
    "one(num)"
   ]
  },
  {
   "cell_type": "code",
   "execution_count": 20,
   "id": "1b101403-b399-41a3-a0fb-ea83469c889d",
   "metadata": {
    "jupyter": {
     "source_hidden": true
    }
   },
   "outputs": [
    {
     "name": "stdin",
     "output_type": "stream",
     "text": [
      "enter the value of n: 19\n"
     ]
    },
    {
     "name": "stdout",
     "output_type": "stream",
     "text": [
      "19 is even? False\n"
     ]
    }
   ],
   "source": [
    "''' write a code to check the given num is even or odd using in-direct recursive method with boolean output:\n",
    "input:5\n",
    "output:False'''\n",
    "def even(n):\n",
    "    if (n%2==0):\n",
    "        return True\n",
    "    return odd(n)\n",
    "def odd(n):\n",
    "    return False\n",
    "n= int(input(\"enter the value of n:\"))\n",
    "print(n,\"is even?\",even(n))\n"
   ]
  },
  {
   "cell_type": "code",
   "execution_count": 21,
   "id": "ca946476-70b2-4455-ade3-ca835c55ead1",
   "metadata": {},
   "outputs": [
    {
     "name": "stdin",
     "output_type": "stream",
     "text": [
      "enter the value of n: 3\n"
     ]
    },
    {
     "name": "stdout",
     "output_type": "stream",
     "text": [
      "3 is even? False\n"
     ]
    }
   ],
   "source": [
    "def even(n):                                       \n",
    "    if n==0:                                           \n",
    "        return True                          \n",
    "    return odd(n-1)                                     \n",
    "def odd(n):                                            \n",
    "    if n==0:                                       \n",
    "        return False                                        \n",
    "    return even(n-1)                                            \n",
    "n= int(input(\"enter the value of n:\"))\n",
    "print(n,\"is even?\",even(n))"
   ]
  },
  {
   "cell_type": "code",
   "execution_count": 23,
   "id": "e802a224-de40-4629-9894-c40be73dfcb7",
   "metadata": {},
   "outputs": [
    {
     "name": "stdout",
     "output_type": "stream",
     "text": [
      "3\n",
      "2\n",
      "1\n",
      "0\n",
      "0\n",
      "1\n",
      "0\n"
     ]
    }
   ],
   "source": [
    "def tree(n):\n",
    "    if n<0:\n",
    "        return\n",
    "    print(n)\n",
    "    tree(n-1)\n",
    "    tree(n-2)\n",
    "tree(3)\n"
   ]
  },
  {
   "cell_type": "code",
   "execution_count": 40,
   "id": "38546539-dcc1-4549-b1c4-a94beccb1f86",
   "metadata": {},
   "outputs": [
    {
     "name": "stdout",
     "output_type": "stream",
     "text": [
      "33\n"
     ]
    }
   ],
   "source": [
    "def nest(n):\n",
    "    if n>=10:\n",
    "        return n-1\n",
    "    return nest(nest(n+2))\n",
    "print(nest(34))"
   ]
  },
  {
   "cell_type": "code",
   "execution_count": 42,
   "id": "8498910f-4cac-4c6a-abb5-2608099763c7",
   "metadata": {},
   "outputs": [
    {
     "name": "stdout",
     "output_type": "stream",
     "text": [
      "91\n"
     ]
    }
   ],
   "source": [
    "def mcCarthy91(n):\n",
    "    if n > 100:\n",
    "        return n - 10\n",
    "    else:\n",
    "        return mcCarthy91(mcCarthy91(n + 11))\n",
    "print(mcCarthy91(8))"
   ]
  },
  {
   "cell_type": "code",
   "execution_count": null,
   "id": "1c32d0e3-7d4e-4e91-bcea-d326be4e4d7b",
   "metadata": {},
   "outputs": [],
   "source": [
    "'''data files\n",
    "1. ascii files         a  b  c --  97    98    99\n",
    "                                  bin   bin    bin\n",
    "2. binary files\n",
    "io functions\n",
    "open()\n",
    "close()\n",
    "\n",
    "open syntax \n",
    "open('sample.txt',functionality)\n",
    "access mode \n",
    "1. r - default mode ,which opens a file for readig purpose only .\n",
    "2. rb - default mode , which opens data in binary format .\n",
    "3. r+ - read/write ,the file will give priority from beginning .\n",
    "4. rb+ - read/write binary , priority same as r+ .\n",
    "5. w - writing format .\n",
    "6. wb - default mode , which opens data in binary format .\n",
    "7. w+ - read/write .\n",
    "8. wb+ - read/write binary data .\n",
    "9. a -tagalong (adds the data to the previous without disturbing).\n",
    "10. ab - binary data appends .\n",
    "11. ab+ - binary data will read and append .\n",
    "'''"
   ]
  },
  {
   "cell_type": "code",
   "execution_count": 2,
   "id": "63836cd9-843c-4fcf-b220-19216096145d",
   "metadata": {},
   "outputs": [
    {
     "name": "stdout",
     "output_type": "stream",
     "text": [
      "hi guys  welcome backk to my youtube channel\n"
     ]
    }
   ],
   "source": [
    "with open('ash.txt','r') as file:\n",
    "    data=file.read()\n",
    "    print(data)"
   ]
  },
  {
   "cell_type": "code",
   "execution_count": null,
   "id": "8951a393-1190-4aea-b70d-86889c8b316f",
   "metadata": {},
   "outputs": [],
   "source": [
    "'''built in and user defined\n",
    "Exception- base class for all exceptions\n",
    "iteration- generated method does not point any object\n",
    "StopIteration - \n",
    "SystemExit-sys.exit()\n",
    "StandardError - except stopiteration and system exit\n",
    "ArthemeticError - math calc errors\n",
    "OverflowError - numerical cal exceed\n",
    "ZeroDivisionError - 0 divide\n",
    "FloatingPointError - 3.14159\n",
    "AssertionError - assert statement fails\n",
    "AttributeError - function parameters balancing\n",
    "EOFError- input and output are not defined then we see EOFError (i/o recognition)\n",
    "ImportError -when data is not present in the file and try to  fetch then we get ImportError(reading file error)\n",
    "KeyboardIntrrupt - \n",
    "LookupError -\n",
    "IndexError-\n",
    "NameError\n",
    "KeyError\n",
    "EnvironmentError\n",
    "IOError - file opening\n",
    "SyntaxError \n",
    "ValueError\n",
    "RuntimeError\n",
    "TypeError\n",
    "AuthenticationError\n",
    "DependenciError\n",
    "'''"
   ]
  },
  {
   "cell_type": "code",
   "execution_count": null,
   "id": "88ac017c-e026-4814-94f6-43bf9c5d797e",
   "metadata": {},
   "outputs": [],
   "source": [
    "''' syntax : try except\n",
    "try:\n",
    "     stmts\n",
    "     stmts\n",
    "except "
   ]
  },
  {
   "cell_type": "code",
   "execution_count": 6,
   "id": "059bc8c6-ab80-4a69-9813-563b94c388e1",
   "metadata": {},
   "outputs": [
    {
     "name": "stdin",
     "output_type": "stream",
     "text": [
      "enter numerator: 22\n",
      "enter denominator: 4\n"
     ]
    },
    {
     "name": "stdout",
     "output_type": "stream",
     "text": [
      "Quotient: 5.5\n"
     ]
    }
   ],
   "source": [
    "#program to handel zero division error\n",
    "num= int(input(\"enter numerator:\"))\n",
    "deno = int(input(\"enter denominator:\"))\n",
    "try:\n",
    "    quo=num/deno\n",
    "    print(\"Quotient:\",quo)\n",
    "except ZeroDivisionError:\n",
    "    print(\"denominator cannot be zero.....\")"
   ]
  },
  {
   "cell_type": "code",
   "execution_count": 8,
   "id": "6a94784f-a0ad-47a0-9d35-5014a6532db7",
   "metadata": {},
   "outputs": [
    {
     "name": "stdin",
     "output_type": "stream",
     "text": [
      "enter number: 23\n"
     ]
    },
    {
     "name": "stdout",
     "output_type": "stream",
     "text": [
      "12167\n",
      "program terminated\n",
      "bye\n"
     ]
    }
   ],
   "source": [
    "#program to handel multiple exception\n",
    "try:\n",
    "    num= int(input(\"enter number:\"))\n",
    "    print(num**3)\n",
    "except(KeyboardInterrupt):\n",
    "    print(\"you should have entered data without interrupting the compiler\")\n",
    "except(ValueError):\n",
    "    print(\"enter number only\")\n",
    "print(\"program terminated\")\n",
    "print(\"bye\")"
   ]
  },
  {
   "cell_type": "code",
   "execution_count": 9,
   "id": "e2d14874-76ea-4891-b5f1-7c08ac991475",
   "metadata": {},
   "outputs": [
    {
     "name": "stdout",
     "output_type": "stream",
     "text": [
      "hi guys  welcome backk to my youtube channel\n"
     ]
    }
   ],
   "source": [
    "try:\n",
    "    file=open('ash.txt')\n",
    "    str=file.readline()\n",
    "    print(str)\n",
    "except IOError:\n",
    "    print(\"error occured due to input\")\n",
    "except ValueError:\n",
    "    print(\"couldnot convert to integer\")\n",
    "except:\n",
    "    print(\"unexpected error\")"
   ]
  },
  {
   "cell_type": "code",
   "execution_count": null,
   "id": "c9e87176-7d29-4c66-aba2-280b79df417e",
   "metadata": {},
   "outputs": [],
   "source": [
    "#re raising an exception\n",
    "try:\n",
    "    raise NameError\n",
    "except:\n",
    "    print(\"re raising the exeption\")\n",
    "    raise"
   ]
  },
  {
   "cell_type": "code",
   "execution_count": 12,
   "id": "e3a17b27-7c1d-4118-b54c-fcdbe487c692",
   "metadata": {},
   "outputs": [
    {
     "name": "stdout",
     "output_type": "stream",
     "text": [
      "input :\n"
     ]
    },
    {
     "name": "stdin",
     "output_type": "stream",
     "text": [
      " 5\n"
     ]
    },
    {
     "name": "stdout",
     "output_type": "stream",
     "text": [
      "     \n",
      "A B C D E       \n",
      "F G H I J        \n",
      "K L M N O         \n",
      "P Q R S T          \n",
      "U V W X Y \n"
     ]
    }
   ],
   "source": [
    "print(\"input :\")\n",
    "n = int(input())\n",
    "\n",
    "alphabet= 65\n",
    "for i in range(n):\n",
    "    print((n+i)*\" \")\n",
    "    for j in range(i, i+n):\n",
    "        print(chr(alphabet), end=\" \")\n",
    "        alphabet = alphabet + 1\n",
    "print()"
   ]
  },
  {
   "cell_type": "code",
   "execution_count": 1,
   "id": "393d1fed-8037-4c76-b0b3-cecead45dd8a",
   "metadata": {},
   "outputs": [
    {
     "name": "stdout",
     "output_type": "stream",
     "text": [
      "rasing exception.....\n",
      "performing clean-up with finally...\n"
     ]
    },
    {
     "ename": "NameError",
     "evalue": "name 'valueError' is not defined",
     "output_type": "error",
     "traceback": [
      "\u001b[1;31m---------------------------------------------------------------------------\u001b[0m",
      "\u001b[1;31mNameError\u001b[0m                                 Traceback (most recent call last)",
      "Cell \u001b[1;32mIn[1], line 4\u001b[0m\n\u001b[0;32m      2\u001b[0m \u001b[38;5;28;01mtry\u001b[39;00m:\n\u001b[0;32m      3\u001b[0m     \u001b[38;5;28mprint\u001b[39m(\u001b[38;5;124m\"\u001b[39m\u001b[38;5;124mrasing exception.....\u001b[39m\u001b[38;5;124m\"\u001b[39m)\n\u001b[1;32m----> 4\u001b[0m     \u001b[38;5;28;01mraise\u001b[39;00m \u001b[43mvalueError\u001b[49m\n\u001b[0;32m      5\u001b[0m \u001b[38;5;28;01mfinally\u001b[39;00m:\n\u001b[0;32m      6\u001b[0m     \u001b[38;5;28mprint\u001b[39m(\u001b[38;5;124m\"\u001b[39m\u001b[38;5;124mperforming clean-up with finally...\u001b[39m\u001b[38;5;124m\"\u001b[39m)\n",
      "\u001b[1;31mNameError\u001b[0m: name 'valueError' is not defined"
     ]
    }
   ],
   "source": [
    "# try finally block\n",
    "try:\n",
    "    print(\"rasing exception.....\")\n",
    "    raise valueError\n",
    "finally:\n",
    "    print(\"performing clean-up with finally...\")"
   ]
  },
  {
   "cell_type": "code",
   "execution_count": 1,
   "id": "e0ce5de1-01b1-4ee1-b607-7c53baaeb71a",
   "metadata": {},
   "outputs": [
    {
     "name": "stdout",
     "output_type": "stream",
     "text": [
      "rasing exception.....\n",
      "exception caught\n",
      "performing clean-up with finally...\n"
     ]
    }
   ],
   "source": [
    "# try except finally block\n",
    "try:\n",
    "    print(\"rasing exception.....\")\n",
    "    raise valueError\n",
    "except:\n",
    "    print(\"exception caught\")\n",
    "finally:\n",
    "    print(\"performing clean-up with finally...\")"
   ]
  },
  {
   "cell_type": "code",
   "execution_count": 4,
   "id": "77a879a5-f45e-47f5-a89f-3d748341088e",
   "metadata": {},
   "outputs": [
    {
     "name": "stdout",
     "output_type": "stream",
     "text": [
      "diving two strings\n",
      "this is finally  block which excecutes everytime...\n",
      "here the type error is hanandeled, which is raised in the inner try\n"
     ]
    }
   ],
   "source": [
    "'''program having finally block to re raise an exception that will be handeled by an outer\n",
    "try-except block'''\n",
    "try:\n",
    "    print(\"diving two strings\")\n",
    "    try:\n",
    "        quo=\"abc\"/\"def\"\n",
    "        print(quo)\n",
    "    finally:\n",
    "        print(\"this is finally  block which excecutes everytime...\")\n",
    "except TypeError:\n",
    "    print(\"here the type error is hanandeled, which is raised in the inner try\")\n",
    "    "
   ]
  },
  {
   "cell_type": "code",
   "execution_count": 6,
   "id": "ae2a43df-14f8-4f23-8017-e4c5ca6cc1bb",
   "metadata": {},
   "outputs": [
    {
     "name": "stdout",
     "output_type": "stream",
     "text": [
      "diving two strings\n",
      "3.0\n",
      "this is finally  block which excecutes everytime...\n"
     ]
    }
   ],
   "source": [
    "'''program having finally block to re raise an exception that will be handeled by an outer\n",
    "try-except block'''\n",
    "try:\n",
    "    print(\"diving two strings\")\n",
    "    try:\n",
    "        quo=9/3\n",
    "        print(quo)\n",
    "    finally:\n",
    "        print(\"this is finally  block which excecutes everytime...\")\n",
    "except TypeError:\n",
    "    print(\"here the type error is hanandeled, which is raised in the inner try\")\n",
    "    "
   ]
  },
  {
   "cell_type": "code",
   "execution_count": 9,
   "id": "e0a2f5f3-1b2e-42b4-aada-d4b07e53df7d",
   "metadata": {},
   "outputs": [
    {
     "name": "stdout",
     "output_type": "stream",
     "text": [
      "file does not exist\n"
     ]
    },
    {
     "ename": "FileNotFoundError",
     "evalue": "[Errno 2] No such file or directory: 'abcdef.txt'",
     "output_type": "error",
     "traceback": [
      "\u001b[1;31m---------------------------------------------------------------------------\u001b[0m",
      "\u001b[1;31mFileNotFoundError\u001b[0m                         Traceback (most recent call last)",
      "Cell \u001b[1;32mIn[9], line 2\u001b[0m\n\u001b[0;32m      1\u001b[0m \u001b[38;5;28;01mtry\u001b[39;00m:\n\u001b[1;32m----> 2\u001b[0m     f\u001b[38;5;241m=\u001b[39m\u001b[38;5;28;43mopen\u001b[39;49m\u001b[43m(\u001b[49m\u001b[38;5;124;43m\"\u001b[39;49m\u001b[38;5;124;43mabcdef.txt\u001b[39;49m\u001b[38;5;124;43m\"\u001b[39;49m\u001b[43m)\u001b[49m\n\u001b[0;32m      3\u001b[0m \u001b[38;5;28;01mexcept\u001b[39;00m:\n\u001b[0;32m      4\u001b[0m     \u001b[38;5;28mprint\u001b[39m(\u001b[38;5;124m\"\u001b[39m\u001b[38;5;124mfile does not exist\u001b[39m\u001b[38;5;124m\"\u001b[39m)\n",
      "File \u001b[1;32m~\\AppData\\Roaming\\Python\\Python312\\site-packages\\IPython\\core\\interactiveshell.py:324\u001b[0m, in \u001b[0;36m_modified_open\u001b[1;34m(file, *args, **kwargs)\u001b[0m\n\u001b[0;32m    317\u001b[0m \u001b[38;5;28;01mif\u001b[39;00m file \u001b[38;5;129;01min\u001b[39;00m {\u001b[38;5;241m0\u001b[39m, \u001b[38;5;241m1\u001b[39m, \u001b[38;5;241m2\u001b[39m}:\n\u001b[0;32m    318\u001b[0m     \u001b[38;5;28;01mraise\u001b[39;00m \u001b[38;5;167;01mValueError\u001b[39;00m(\n\u001b[0;32m    319\u001b[0m         \u001b[38;5;124mf\u001b[39m\u001b[38;5;124m\"\u001b[39m\u001b[38;5;124mIPython won\u001b[39m\u001b[38;5;124m'\u001b[39m\u001b[38;5;124mt let you open fd=\u001b[39m\u001b[38;5;132;01m{\u001b[39;00mfile\u001b[38;5;132;01m}\u001b[39;00m\u001b[38;5;124m by default \u001b[39m\u001b[38;5;124m\"\u001b[39m\n\u001b[0;32m    320\u001b[0m         \u001b[38;5;124m\"\u001b[39m\u001b[38;5;124mas it is likely to crash IPython. If you know what you are doing, \u001b[39m\u001b[38;5;124m\"\u001b[39m\n\u001b[0;32m    321\u001b[0m         \u001b[38;5;124m\"\u001b[39m\u001b[38;5;124myou can use builtins\u001b[39m\u001b[38;5;124m'\u001b[39m\u001b[38;5;124m open.\u001b[39m\u001b[38;5;124m\"\u001b[39m\n\u001b[0;32m    322\u001b[0m     )\n\u001b[1;32m--> 324\u001b[0m \u001b[38;5;28;01mreturn\u001b[39;00m \u001b[43mio_open\u001b[49m\u001b[43m(\u001b[49m\u001b[43mfile\u001b[49m\u001b[43m,\u001b[49m\u001b[43m \u001b[49m\u001b[38;5;241;43m*\u001b[39;49m\u001b[43margs\u001b[49m\u001b[43m,\u001b[49m\u001b[43m \u001b[49m\u001b[38;5;241;43m*\u001b[39;49m\u001b[38;5;241;43m*\u001b[39;49m\u001b[43mkwargs\u001b[49m\u001b[43m)\u001b[49m\n",
      "\u001b[1;31mFileNotFoundError\u001b[0m: [Errno 2] No such file or directory: 'abcdef.txt'"
     ]
    }
   ],
   "source": [
    "try:\n",
    "    f=open(\"abcdef.txt\")\n",
    "except:\n",
    "    print(\"file does not exist\")\n",
    "    raise"
   ]
  },
  {
   "cell_type": "code",
   "execution_count": 15,
   "id": "9b75de96-35a4-4b61-8a97-b1340c158e77",
   "metadata": {},
   "outputs": [
    {
     "name": "stdin",
     "output_type": "stream",
     "text": [
      "enter the temp in c: 70\n"
     ]
    },
    {
     "name": "stdout",
     "output_type": "stream",
     "text": [
      "158.0\n"
     ]
    },
    {
     "ename": "AssertionError",
     "evalue": "Its freezing",
     "output_type": "error",
     "traceback": [
      "\u001b[1;31m---------------------------------------------------------------------------\u001b[0m",
      "\u001b[1;31mAssertionError\u001b[0m                            Traceback (most recent call last)",
      "Cell \u001b[1;32mIn[15], line 7\u001b[0m\n\u001b[0;32m      5\u001b[0m f\u001b[38;5;241m=\u001b[39m(c\u001b[38;5;241m*\u001b[39m\u001b[38;5;241m9\u001b[39m\u001b[38;5;241m/\u001b[39m\u001b[38;5;241m5\u001b[39m)\u001b[38;5;241m+\u001b[39m\u001b[38;5;241m32\u001b[39m\n\u001b[0;32m      6\u001b[0m \u001b[38;5;28mprint\u001b[39m(f)\n\u001b[1;32m----> 7\u001b[0m \u001b[38;5;28;01massert\u001b[39;00m f\u001b[38;5;241m<\u001b[39m\u001b[38;5;241m=\u001b[39m\u001b[38;5;241m32\u001b[39m,\u001b[38;5;124m\"\u001b[39m\u001b[38;5;124mIts freezing\u001b[39m\u001b[38;5;124m\"\u001b[39m\n\u001b[0;32m      8\u001b[0m \u001b[38;5;28mprint\u001b[39m(\u001b[38;5;124mf\u001b[39m\u001b[38;5;124m\"\u001b[39m\u001b[38;5;124mTemperature in Fahrenheit=\u001b[39m\u001b[38;5;132;01m{\u001b[39;00mf\u001b[38;5;132;01m}\u001b[39;00m\u001b[38;5;124m\"\u001b[39m)\n",
      "\u001b[1;31mAssertionError\u001b[0m: Its freezing"
     ]
    }
   ],
   "source": [
    "'''# assertion\n",
    "on and off mode'''\n",
    "#assert statement\n",
    "c=int(input(\"enter the temp in c:\"))\n",
    "f=(c*9/5)+32\n",
    "print(f)\n",
    "assert f<=32,\"Its freezing\"\n",
    "print(f\"Temperature in Fahrenheit={f}\")"
   ]
  },
  {
   "cell_type": "code",
   "execution_count": 4,
   "id": "32586bdb-186b-49bc-8c63-41d704574cf9",
   "metadata": {},
   "outputs": [
    {
     "name": "stdin",
     "output_type": "stream",
     "text": [
      "enter a num 7\n"
     ]
    },
    {
     "name": "stdout",
     "output_type": "stream",
     "text": [
      "49\n"
     ]
    }
   ],
   "source": [
    "'''write a program that prompts theuser to enter a number and print it\n",
    "s square perform exception handeling for keyboard intrupt'''\n",
    "n=int(input(\"enter a num\"))\n",
    "try:\n",
    "    output=n*n\n",
    "    print(output)\n",
    "except KeyboardInterrupt:\n",
    "    print(\"program is been interruted\")"
   ]
  },
  {
   "cell_type": "code",
   "execution_count": 8,
   "id": "9e17f12e-e677-4dea-a4f1-e109cdbcd9ca",
   "metadata": {},
   "outputs": [
    {
     "name": "stdout",
     "output_type": "stream",
     "text": [
      "1 2 3 4 5 6 7 8 9 10 11 12 13 14 15 16 17 18 19 20 21 22 23 24 25 26 27 28 29 30 "
     ]
    }
   ],
   "source": [
    "'''program which infinitly print naturall numbers raise an exception after printin first 30 numbers exit \n",
    "the program'''\n",
    "n=0\n",
    "while True:\n",
    "    try:\n",
    "        n=n+1\n",
    "        if n==31:\n",
    "            raise StopIteration\n",
    "    except StopIteration:\n",
    "        break\n",
    "    else:\n",
    "        print(n,end=\" \")"
   ]
  },
  {
   "cell_type": "code",
   "execution_count": 20,
   "id": "ae8cd8fe-93da-4d37-bb9d-b1cf85b84aef",
   "metadata": {},
   "outputs": [
    {
     "name": "stdin",
     "output_type": "stream",
     "text": [
      "enter size: 5\n",
      "enter element 1: 1\n",
      "enter element 2: 2\n",
      "enter element 3: 3\n",
      "enter element 4: 4\n",
      "enter element 5: 5\n",
      "enter index to access the element 6\n"
     ]
    },
    {
     "name": "stdout",
     "output_type": "stream",
     "text": [
      "error : index out of range\n"
     ]
    }
   ],
   "source": [
    "try:\n",
    "    size=int(input(\"enter size:\"))\n",
    "    user_list=[]\n",
    "    for i in range(size):\n",
    "        val=int(input(f\"enter element {i+1}:\"))\n",
    "        user_list.append(val)\n",
    "    index= int(input(\"enter index to access the element\"))\n",
    "    print(\"element at index\", user_list[index])\n",
    "except ValueError:\n",
    "    print(\"error : please enter only integers\")\n",
    "except IndexError:\n",
    "    print(\"error : index out of range\")"
   ]
  },
  {
   "cell_type": "code",
   "execution_count": 22,
   "id": "ed45a80c-1725-4236-9a28-a442be554a89",
   "metadata": {},
   "outputs": [
    {
     "name": "stdout",
     "output_type": "stream",
     "text": [
      "[1, 4, 9, 16, 25, 36, 49, 64, 81, 100]\n"
     ]
    }
   ],
   "source": [
    "'''list comprehensions\n",
    "syntax:\n",
    "expression for var in range() if condition'''\n",
    "# 1 4 9 16 ........100\n",
    "print([num**2 for num in range(1,11)])"
   ]
  },
  {
   "cell_type": "code",
   "execution_count": 23,
   "id": "5bcffbd8-b2e0-47a8-a5ae-a215fcfb3e04",
   "metadata": {},
   "outputs": [
    {
     "name": "stdout",
     "output_type": "stream",
     "text": [
      "[2, 4, 6, 8, 10]\n"
     ]
    }
   ],
   "source": [
    "print([x for x in range(1,11) if x%2==0])"
   ]
  },
  {
   "cell_type": "code",
   "execution_count": 25,
   "id": "5341cab1-4996-454a-81da-1de8def1b226",
   "metadata": {},
   "outputs": [
    {
     "name": "stdout",
     "output_type": "stream",
     "text": [
      "['APPLE', 'BANANA', 'CHERRY']\n"
     ]
    }
   ],
   "source": [
    "words=['apple','banana','cherry']\n",
    "print([word.upper() for word in words])"
   ]
  },
  {
   "cell_type": "code",
   "execution_count": 1,
   "id": "6f3e669f-361a-4d3b-bd86-942063ef21ae",
   "metadata": {},
   "outputs": [
    {
     "name": "stdin",
     "output_type": "stream",
     "text": [
      "enter number1: 1\n",
      "enter number2: 2\n",
      "enter number3: 3\n",
      "enter number4: 4\n",
      "enter number5: 5\n"
     ]
    },
    {
     "name": "stdout",
     "output_type": "stream",
     "text": [
      "[1, 2, 3, 4, 5]\n"
     ]
    }
   ],
   "source": [
    "'''list comprehension .......input version'''\n",
    "#step by step\n",
    "nums=[int(input(f\"enter number{i+1}:\")) for i in range(5)]\n",
    "print(nums)"
   ]
  },
  {
   "cell_type": "code",
   "execution_count": 2,
   "id": "6811f6ff-5c6d-4f36-a30e-afb2458b3495",
   "metadata": {},
   "outputs": [
    {
     "name": "stdin",
     "output_type": "stream",
     "text": [
      "enter 5 nums with space 2 3 4 5 6\n"
     ]
    },
    {
     "name": "stdout",
     "output_type": "stream",
     "text": [
      "[2, 3, 4, 5, 6]\n"
     ]
    }
   ],
   "source": [
    "n=[int(x) for x in input(\"enter 5 nums with space\").split()[:5]]\n",
    "print(n)"
   ]
  },
  {
   "cell_type": "code",
   "execution_count": 5,
   "id": "59270683-03ff-4068-8399-1fbd86ac5e92",
   "metadata": {},
   "outputs": [
    {
     "name": "stdin",
     "output_type": "stream",
     "text": [
      "enter the table size 5\n"
     ]
    },
    {
     "name": "stdout",
     "output_type": "stream",
     "text": [
      "tables of math\n",
      "[1, 2, 3, 4, 5]\n",
      "[2, 4, 6, 8, 10]\n",
      "[3, 6, 9, 12, 15]\n",
      "[4, 8, 12, 16, 20]\n",
      "[5, 10, 15, 20, 25]\n"
     ]
    }
   ],
   "source": [
    "# nested lc... loop within loop in a single:lc\n",
    "n=int(input(\"enter the table size\"))\n",
    "table=[[i*j for j in range(1,n+1)] for i in range(1,n+1)]\n",
    "print(\"tables of math\")\n",
    "for row in table:\n",
    "    print(row)"
   ]
  },
  {
   "cell_type": "code",
   "execution_count": null,
   "id": "86df6e38-47a9-4b9a-af74-7cf4879ae7cd",
   "metadata": {},
   "outputs": [],
   "source": [
    "'''create a nxn matrix with manual input numbers ny\n",
    "input s3eperated spaces\n",
    "print all the rows in lc only'''\n",
    "nums=[int(x) for x in input(\"enter\",x*x,\"nums with spaces\").split()[:16]]\n",
    "matrix =[[nums[i*4+j] for j in range(4+1)] for i in range(4+1)]"
   ]
  },
  {
   "cell_type": "code",
   "execution_count": 4,
   "id": "da6832ce-5b59-4c2f-a2f6-01ec7aee9ba9",
   "metadata": {},
   "outputs": [
    {
     "name": "stdin",
     "output_type": "stream",
     "text": [
      "enter 9 numbers with space 1 2 3 4 5 6 7 8 9\n"
     ]
    },
    {
     "name": "stdout",
     "output_type": "stream",
     "text": [
      "[1, 2, 3]\n",
      "[4, 5, 6]\n",
      "[7, 8, 9]\n"
     ]
    }
   ],
   "source": [
    "nums= input(\"enter 9 numbers with space\").split()\n",
    "if len(nums)!=9:\n",
    "    print(\"enter example 9 numbers:\")\n",
    "else:\n",
    "    numbers=[int(x) for x in nums]\n",
    "    matrix=[[numbers[i*3+j] for j in range(3)] for i in range(3)]\n",
    "for r in matrix:\n",
    "    print(r)"
   ]
  },
  {
   "cell_type": "code",
   "execution_count": 6,
   "id": "eff3c822-84bd-4c42-b51f-ef02502bd6d5",
   "metadata": {},
   "outputs": [
    {
     "name": "stdin",
     "output_type": "stream",
     "text": [
      "enter 9 numbers with space 1 2 3 4 5 6 7 8 9\n"
     ]
    },
    {
     "name": "stdout",
     "output_type": "stream",
     "text": [
      "[1, 2, 3]\n",
      "[4, 5, 6]\n",
      "[7, 8, 9]\n",
      "[1, 4, 7]\n",
      "[2, 5, 8]\n",
      "[3, 6, 9]\n"
     ]
    }
   ],
   "source": [
    "nums= input(\"enter 9 numbers with space\").split()\n",
    "if len(nums)!=9:\n",
    "    print(\"enter example 9 numbers:\")\n",
    "else:\n",
    "    numbers=[int(x) for x in nums]\n",
    "    matrix=[[numbers[i*3+j] for j in range(3)] for i in range(3)]\n",
    "    transpose=[[matrix[i][j] for i in range(3)] for j in range(3)]\n",
    "for r in matrix:\n",
    "    print(r)\n",
    "for r in transpose:\n",
    "    print(r)"
   ]
  },
  {
   "cell_type": "code",
   "execution_count": 7,
   "id": "c9cd1de4-50f4-42e2-b91e-d0a0c9f9a69d",
   "metadata": {},
   "outputs": [
    {
     "name": "stdin",
     "output_type": "stream",
     "text": [
      "enter size: 3\n",
      "enter numbers 1 2 3 4 5 6 7 8 9\n"
     ]
    },
    {
     "name": "stdout",
     "output_type": "stream",
     "text": [
      "[1, 2, 3]\n",
      "[4, 5, 6]\n",
      "[7, 8, 9]\n",
      "[1, 2, 3, 4, 5, 6, 7, 8, 9]\n"
     ]
    }
   ],
   "source": [
    "n=int(input(\"enter size:\"))\n",
    "num=[int(x) for x in input(\"enter numbers\").split()[:n*n]]\n",
    "matrix=[[num[i*n+j] for j in range(n)] for i in range(n)]\n",
    "for k in matrix:\n",
    "    print(k)\n",
    "flat=[k for r in matrix for k in r]\n",
    "print(flat)"
   ]
  },
  {
   "cell_type": "code",
   "execution_count": 8,
   "id": "38e6a724-edc0-4a3f-871d-3c0702969baf",
   "metadata": {},
   "outputs": [
    {
     "name": "stdin",
     "output_type": "stream",
     "text": [
      "enter size: 2\n",
      "enter numbers 1 2 3 4\n"
     ]
    },
    {
     "name": "stdout",
     "output_type": "stream",
     "text": [
      "[1, 2]\n",
      "[3, 4]\n",
      "square\n",
      "[1, 4]\n",
      "[9, 16]\n"
     ]
    }
   ],
   "source": [
    "n=int(input(\"enter size:\"))\n",
    "num=[int(x) for x in input(\"enter numbers\").split()[:n*n]]\n",
    "matrix=[[num[i*n+j] for j in range(n)] for i in range(n)]\n",
    "squared = [[num ** 2 for num in row] for row in matrix]\n",
    "for k in matrix:\n",
    "    print(k)\n",
    "print(\"square\")\n",
    "for k in squared:\n",
    "    print(k)\n",
    "    "
   ]
  },
  {
   "cell_type": "code",
   "execution_count": 9,
   "id": "425da192-5fca-414b-a72e-9fb53f4fae59",
   "metadata": {},
   "outputs": [
    {
     "name": "stdin",
     "output_type": "stream",
     "text": [
      "enter size: 2\n",
      "enter numbers 1 2 3 4\n"
     ]
    },
    {
     "name": "stdout",
     "output_type": "stream",
     "text": [
      "[1, 4]\n",
      "[9, 16]\n"
     ]
    }
   ],
   "source": [
    "n=int(input(\"enter size:\"))\n",
    "num=[int(x) for x in input(\"enter numbers\").split()[:n*n]]\n",
    "matrix=[[num[i*n+j]**2 for j in range(n)] for i in range(n)]\n",
    "for k in matrix:\n",
    "    print(k)"
   ]
  },
  {
   "cell_type": "code",
   "execution_count": 11,
   "id": "4a21185d-4813-48df-ba7a-b766c3457548",
   "metadata": {},
   "outputs": [
    {
     "name": "stdin",
     "output_type": "stream",
     "text": [
      "enter size: 3\n",
      "enter numbers 1 2 3 4 5 6 7 8 9\n"
     ]
    },
    {
     "name": "stdout",
     "output_type": "stream",
     "text": [
      "[0, 2, 0]\n",
      "[4, 0, 6]\n",
      "[0, 8, 0]\n"
     ]
    }
   ],
   "source": [
    "n=int(input(\"enter size:\"))\n",
    "num=[int(x) for x in input(\"enter numbers\").split()[:n*n]]\n",
    "matrix=[[num[i*n+j] if num[i*n+j]%2==0 else 0 for j in range(n)] for i in range(n)]\n",
    "for k in matrix:\n",
    "    print(k)"
   ]
  },
  {
   "cell_type": "code",
   "execution_count": 12,
   "id": "28fb382d-8756-467b-9481-435ea6b7e09e",
   "metadata": {},
   "outputs": [
    {
     "name": "stdin",
     "output_type": "stream",
     "text": [
      "enter size: 3\n",
      "enter numbers 1 2 3 4 5 6 7 8 9\n"
     ]
    },
    {
     "name": "stdout",
     "output_type": "stream",
     "text": [
      "[1, 0, 3]\n",
      "[0, 5, 0]\n",
      "[7, 0, 9]\n"
     ]
    }
   ],
   "source": [
    "n=int(input(\"enter size:\"))\n",
    "num=[int(x) for x in input(\"enter numbers\").split()[:n*n]]\n",
    "matrix=[[num[i*n+j] if num[i*n+j]%2!=0 else 0 for j in range(n)] for i in range(n)]\n",
    "for k in matrix:\n",
    "    print(k)"
   ]
  },
  {
   "cell_type": "code",
   "execution_count": 13,
   "id": "09258a7f-ab23-4742-a5e8-430a357c7c87",
   "metadata": {},
   "outputs": [
    {
     "name": "stdin",
     "output_type": "stream",
     "text": [
      "Enter size:  3\n",
      "Enter numbers:  1 2 3 4 5 6 7 8 9\n"
     ]
    },
    {
     "name": "stdout",
     "output_type": "stream",
     "text": [
      "[1, 0, 1]\n",
      "[0, 1, 0]\n",
      "[1, 0, 1]\n"
     ]
    }
   ],
   "source": [
    "n = int(input(\"Enter size: \"))\n",
    "num = [int(x) for x in input(\"Enter numbers: \").split()[:n * n]]\n",
    "matrix = [[0 if num[i * n + j] % 2 == 0 else 1 for j in range(n)] for i in range(n)]\n",
    "for row in matrix:\n",
    "    print(row)"
   ]
  },
  {
   "cell_type": "code",
   "execution_count": 14,
   "id": "6249aab7-362d-4af3-bf6a-978d5e68ab3e",
   "metadata": {},
   "outputs": [
    {
     "name": "stdin",
     "output_type": "stream",
     "text": [
      "enter rows: 5\n"
     ]
    },
    {
     "name": "stdout",
     "output_type": "stream",
     "text": [
      "['*']\n",
      "['*', '*']\n",
      "['*', '*', '*']\n",
      "['*', '*', '*', '*']\n",
      "['*', '*', '*', '*', '*']\n"
     ]
    }
   ],
   "source": [
    "rows=int(input(\"enter rows:\"))\n",
    "pattern=[([\"*\" for _ in range(i)]) for i in range(1,rows+1)]\n",
    "for line in pattern:\n",
    "    print(line)\n"
   ]
  },
  {
   "cell_type": "code",
   "execution_count": 15,
   "id": "2a259f4e-0d8a-4b8f-b4ee-3ff697d1dee2",
   "metadata": {},
   "outputs": [
    {
     "name": "stdin",
     "output_type": "stream",
     "text": [
      "enter rows: 5\n"
     ]
    },
    {
     "name": "stdout",
     "output_type": "stream",
     "text": [
      "*\n",
      "**\n",
      "***\n",
      "****\n",
      "*****\n"
     ]
    }
   ],
   "source": [
    "rows=int(input(\"enter rows:\"))\n",
    "pattern=[''.join([\"*\" for _ in range(i)]) for i in range(1,rows+1)]\n",
    "for line in pattern:\n",
    "    print(line)"
   ]
  },
  {
   "cell_type": "code",
   "execution_count": 17,
   "id": "2dc6b81f-9340-449d-a31a-d023b8a6b7f8",
   "metadata": {},
   "outputs": [
    {
     "name": "stdin",
     "output_type": "stream",
     "text": [
      "enter rows: 5\n"
     ]
    },
    {
     "name": "stdout",
     "output_type": "stream",
     "text": [
      "1\n",
      "1 2\n",
      "1 2 3\n",
      "1 2 3 4\n",
      "1 2 3 4 5\n"
     ]
    }
   ],
   "source": [
    "rows=int(input(\"enter rows:\"))\n",
    "pattern=[' '.join([str(num) for num in range(1,i+1)]) for i in range(1,rows+1)]\n",
    "for line in pattern:\n",
    "    print(line)"
   ]
  },
  {
   "cell_type": "code",
   "execution_count": 22,
   "id": "e74385a4-5106-4b5d-bf9a-462cec03127d",
   "metadata": {},
   "outputs": [
    {
     "name": "stdin",
     "output_type": "stream",
     "text": [
      "enter rows: 5\n"
     ]
    },
    {
     "name": "stdout",
     "output_type": "stream",
     "text": [
      "A\n",
      "A B\n",
      "A B C\n",
      "A B C D\n",
      "A B C D E\n"
     ]
    }
   ],
   "source": [
    "rows=int(input(\"enter rows:\"))\n",
    "pattern=[' '.join([chr(65+j) for j in range(i)]) for i in range(1,rows+1)]\n",
    "for line in pattern:\n",
    "    print(line)"
   ]
  },
  {
   "cell_type": "code",
   "execution_count": 23,
   "id": "08976565-70de-4757-a4d3-54a838494f59",
   "metadata": {},
   "outputs": [
    {
     "name": "stdin",
     "output_type": "stream",
     "text": [
      "enter rows: 5\n"
     ]
    },
    {
     "name": "stdout",
     "output_type": "stream",
     "text": [
      "a\n",
      "a b\n",
      "a b c\n",
      "a b c d\n",
      "a b c d e\n"
     ]
    }
   ],
   "source": [
    "rows=int(input(\"enter rows:\"))\n",
    "pattern=[' '.join([chr(97+j) for j in range(i)]) for i in range(1,rows+1)]\n",
    "for line in pattern:\n",
    "    print(line)"
   ]
  },
  {
   "cell_type": "code",
   "execution_count": 26,
   "id": "13009aa3-c99e-4fd5-ba47-3a5d368e4e64",
   "metadata": {},
   "outputs": [
    {
     "name": "stdin",
     "output_type": "stream",
     "text": [
      "enter rows: 5\n"
     ]
    },
    {
     "name": "stdout",
     "output_type": "stream",
     "text": [
      "    *\n",
      "   ***\n",
      "  *****\n",
      " *******\n",
      "*********\n"
     ]
    }
   ],
   "source": [
    "rows=int(input(\"enter rows:\"))\n",
    "pattern=[(' ' * (rows-i)+\"*\" *(2*i-1)) for i in range(1,rows+1)]\n",
    "for line in pattern:\n",
    "    print(line)"
   ]
  },
  {
   "cell_type": "code",
   "execution_count": 27,
   "id": "36275835-53d5-46ac-8365-015716f131f0",
   "metadata": {},
   "outputs": [
    {
     "name": "stdin",
     "output_type": "stream",
     "text": [
      "enter rows: 5\n"
     ]
    },
    {
     "name": "stdout",
     "output_type": "stream",
     "text": [
      "1 2 3 4 5\n",
      "1 2 3 4\n",
      "1 2 3\n",
      "1 2\n",
      "1\n"
     ]
    }
   ],
   "source": [
    "rows=int(input(\"enter rows:\"))\n",
    "pattern=[' '.join([str(num) for num in range(1,rows-i+1)]) for i in range(rows)]\n",
    "for line in pattern:\n",
    "    print(line)"
   ]
  },
  {
   "cell_type": "code",
   "execution_count": 36,
   "id": "425a9050-d1d4-4528-8195-39a2ef806fc6",
   "metadata": {},
   "outputs": [
    {
     "name": "stdin",
     "output_type": "stream",
     "text": [
      "enter rows: 6\n"
     ]
    },
    {
     "name": "stdout",
     "output_type": "stream",
     "text": [
      "* * * * * *\n",
      "*         *\n",
      "*         *\n",
      "*         *\n",
      "*         *\n",
      "* * * * * *\n"
     ]
    }
   ],
   "source": [
    "rows=int(input(\"enter rows:\"))\n",
    "pattern=[' '.join(['*'if i==0 or i==rows-1 or j==0 or j==rows-1 else ' ' for j in range(rows)])for i in range(rows)]\n",
    "for line in pattern:\n",
    "    print(line)"
   ]
  },
  {
   "cell_type": "code",
   "execution_count": 48,
   "id": "a4078329-20e8-43d3-b7c8-a99eefa1f3be",
   "metadata": {},
   "outputs": [
    {
     "name": "stdin",
     "output_type": "stream",
     "text": [
      "enter rows: 6\n"
     ]
    },
    {
     "name": "stdout",
     "output_type": "stream",
     "text": [
      "* * * * * *\n",
      "* *       *\n",
      "*   *     *\n",
      "*     *   *\n",
      "*       * *\n",
      "* * * * * *\n"
     ]
    }
   ],
   "source": [
    "rows=int(input(\"enter rows:\"))\n",
    "pattern=[' '.join(['*'if i==0 or i==rows-1 or j==0 or j==rows-1 or i==j else ' ' for j in range(rows)])for i in range(rows)]\n",
    "for line in pattern:\n",
    "    print(line)"
   ]
  },
  {
   "cell_type": "code",
   "execution_count": 50,
   "id": "3d2a6f81-58f2-4414-b1e8-1d14e3a3b6d1",
   "metadata": {},
   "outputs": [
    {
     "name": "stdin",
     "output_type": "stream",
     "text": [
      "enter rows: 6\n"
     ]
    },
    {
     "name": "stdout",
     "output_type": "stream",
     "text": [
      "* * * * * *\n",
      "*       * *\n",
      "*     *   *\n",
      "*   *     *\n",
      "* *       *\n",
      "* * * * * *\n"
     ]
    }
   ],
   "source": [
    "rows=int(input(\"enter rows:\"))\n",
    "pattern=[' '.join(['*'if i==0 or i==rows-1 or j==0 or j==rows-1 or (i+j)==rows-1 else ' ' for j in range(rows)])for i in range(rows)]\n",
    "for line in pattern:\n",
    "    print(line)"
   ]
  },
  {
   "cell_type": "code",
   "execution_count": 47,
   "id": "3c59091e-67ea-439e-8d49-03aed00abf9d",
   "metadata": {},
   "outputs": [
    {
     "name": "stdin",
     "output_type": "stream",
     "text": [
      "enter rows: 9\n"
     ]
    },
    {
     "name": "stdout",
     "output_type": "stream",
     "text": [
      "* * * * * * * * *\n",
      "* *           * *\n",
      "*   *       *   *\n",
      "*     *   *     *\n",
      "*       *       *\n",
      "*     *   *     *\n",
      "*   *       *   *\n",
      "* *           * *\n",
      "* * * * * * * * *\n"
     ]
    }
   ],
   "source": [
    "rows=int(input(\"enter rows:\"))\n",
    "pattern=[' '.join(['*'if i==0 or i==rows-1 or j==0 or j==rows-1 or i==j or (i+j)==rows-1 else ' ' for j in range(rows)])for i in range(rows)]\n",
    "for line in pattern:\n",
    "    print(line)"
   ]
  },
  {
   "cell_type": "code",
   "execution_count": 43,
   "id": "af15e18d-94dc-4e0c-9610-2ef12f554937",
   "metadata": {},
   "outputs": [
    {
     "name": "stdin",
     "output_type": "stream",
     "text": [
      "enter rows: 5\n"
     ]
    },
    {
     "name": "stdout",
     "output_type": "stream",
     "text": [
      "* * * * *\n",
      "  *   *  \n",
      "    *    \n",
      "  *   *  \n",
      "* * * * *\n"
     ]
    }
   ],
   "source": [
    "rows=int(input(\"enter rows:\"))\n",
    "pattern=[' '.join(['*'if i==0 or i==rows-1 or i==j or (i+j)==rows-1 else ' ' for j in range(rows)])for i in range(rows)]\n",
    "for line in pattern:\n",
    "    print(line)"
   ]
  },
  {
   "cell_type": "code",
   "execution_count": 44,
   "id": "0ddf2148-c2d2-4859-9c66-9c752af76f7f",
   "metadata": {},
   "outputs": [
    {
     "name": "stdin",
     "output_type": "stream",
     "text": [
      "enter rows: 5\n"
     ]
    },
    {
     "name": "stdout",
     "output_type": "stream",
     "text": [
      "*       *\n",
      "* *   * *\n",
      "*   *   *\n",
      "* *   * *\n",
      "*       *\n"
     ]
    }
   ],
   "source": [
    "rows=int(input(\"enter rows:\"))\n",
    "pattern=[' '.join(['*'if  j==0 or j==rows-1 or i==j or (i+j)==rows-1 else ' ' for j in range(rows)])for i in range(rows)]\n",
    "for line in pattern:\n",
    "    print(line)"
   ]
  },
  {
   "cell_type": "code",
   "execution_count": 45,
   "id": "e568f8fb-1afd-4855-aedc-302e00b9801a",
   "metadata": {},
   "outputs": [
    {
     "name": "stdin",
     "output_type": "stream",
     "text": [
      "enter rows: 5\n"
     ]
    },
    {
     "name": "stdout",
     "output_type": "stream",
     "text": [
      "*        \n",
      "* *      \n",
      "*   *    \n",
      "*     *  \n",
      "* * * * *\n"
     ]
    }
   ],
   "source": [
    "rows=int(input(\"enter rows:\"))\n",
    ";pattern=[' '.join(['*'if i==rows-1 or j==0 or  i==j  else ' ' for j in range(rows)])for i in range(rows)]\n",
    "for line in pattern:\n",
    "    print(line)"
   ]
  },
  {
   "cell_type": "code",
   "execution_count": 46,
   "id": "6cc1e332-982b-4152-a277-5f0afee7978d",
   "metadata": {},
   "outputs": [
    {
     "name": "stdin",
     "output_type": "stream",
     "text": [
      "enter rows: 5\n"
     ]
    },
    {
     "name": "stdout",
     "output_type": "stream",
     "text": [
      "*       *\n",
      "  *   *  \n",
      "    *    \n",
      "  *   *  \n",
      "*       *\n"
     ]
    }
   ],
   "source": [
    "rows=int(input(\"enter rows:\"))\n",
    "pattern=[' '.join(['*'if  i==j or (i+j)==rows-1 else ' ' for j in range(rows)])for i in range(rows)]\n",
    "for line in pattern:\n",
    "    print(line)"
   ]
  },
  {
   "cell_type": "code",
   "execution_count": 68,
   "id": "83409dde-392b-4552-932d-b9e2c62d0ed5",
   "metadata": {},
   "outputs": [
    {
     "name": "stdin",
     "output_type": "stream",
     "text": [
      "enter rows: 6\n"
     ]
    },
    {
     "name": "stdout",
     "output_type": "stream",
     "text": [
      "      *\n",
      "     * *\n",
      "    *   *\n",
      "   *     *\n",
      "  *       *\n",
      " *         *\n",
      "  *       *  \n",
      "   *     *  \n",
      "    *   *  \n",
      "     * *  \n",
      "      *  \n"
     ]
    }
   ],
   "source": [
    "n=int(input(\"enter rows:\"))\n",
    "upper=[\" \"*(n-i)+\"\".join(\"*\" if j==0 or j==2*i else ' ' for j in range(2*i+1)) for i in range(n)]\n",
    "lower=[\" \"*(i+2)+\"\".join(\"*\" if j==0 or j==2*(n-i-2) else ' ' for j in range(2*(n-i)-1)) for i in range(n-1)]\n",
    "for line in upper+lower:\n",
    "    print(line)"
   ]
  },
  {
   "cell_type": "code",
   "execution_count": 71,
   "id": "4e2dd29a-720a-4d00-bb11-39e17f65da9e",
   "metadata": {},
   "outputs": [
    {
     "name": "stdout",
     "output_type": "stream",
     "text": [
      " ** ** \n",
      "*  *  *\n",
      "*     *\n",
      " *   * \n",
      "  * *  \n",
      "   *   \n"
     ]
    }
   ],
   "source": [
    "# Python program to print a heart shape\n",
    "for row in range(6):\n",
    "    for col in range(7):\n",
    "        if (row == 0 and (col % 3 != 0)) or \\\n",
    "           (row == 1 and (col % 3 == 0)) or \\\n",
    "           (row - col == 2) or \\\n",
    "           (row + col == 8):\n",
    "            print(\"*\", end=\"\")\n",
    "        else:\n",
    "            print(\" \", end=\"\")\n",
    "    print()\n"
   ]
  },
  {
   "cell_type": "code",
   "execution_count": null,
   "id": "f1262eaa-7a17-447a-a86d-ebb4f2eae8d5",
   "metadata": {},
   "outputs": [],
   "source": [
    "'''modules in py\n",
    "1. built-in --> math, random, operating system, system.....\n",
    "2. userdefined --> ash.py\n",
    "3. installed --> numpy, pandas 3Dplot,matplotlib, pyplot\n",
    "import --> methods/techniques\n",
    "import math,import math as n \n",
    "from math import pi,sqrt,pow,factorial\n",
    "from math import *'''\n"
   ]
  },
  {
   "cell_type": "code",
   "execution_count": 1,
   "id": "1bda58bc-d781-4b5a-b673-4c807f2353a0",
   "metadata": {},
   "outputs": [
    {
     "name": "stdout",
     "output_type": "stream",
     "text": [
      "1.7320508075688772\n",
      "3.141592653589793\n"
     ]
    }
   ],
   "source": [
    "import math \n",
    "print(math.sqrt(3))\n",
    "print(math.pi)"
   ]
  },
  {
   "cell_type": "code",
   "execution_count": 16,
   "id": "a4fe3a69-33ed-44f1-b0b0-b624a9ab4fb0",
   "metadata": {},
   "outputs": [
    {
     "name": "stdin",
     "output_type": "stream",
     "text": [
      "enter a value 10\n",
      "enter a value: 5\n"
     ]
    },
    {
     "name": "stdout",
     "output_type": "stream",
     "text": [
      "addition 15\n",
      "substraction 5\n",
      "mul 50\n",
      "div 2.0\n",
      "mod 0\n",
      "floor 2\n",
      "power 100000\n"
     ]
    }
   ],
   "source": [
    "import bheem\n",
    "x=int(input(\"enter a value\"))\n",
    "y=int(input(\"enter a value:\"))\n",
    "print(\"addition\",bheem.add(x,y))\n",
    "print(\"substraction\",bheem.sub(x,y))\n",
    "print(\"mul\",bheem.mul(x,y))\n",
    "print(\"div\",bheem.div(x,y))\n",
    "print(\"mod\",bheem.mod(x,y))\n",
    "print(\"floor\",bheem.floor(x,y))\n",
    "print(\"power\",bheem.pow(x,y))\n",
    "\n"
   ]
  },
  {
   "cell_type": "code",
   "execution_count": null,
   "id": "5c883d24-416d-48ba-872d-106cd36f35f1",
   "metadata": {},
   "outputs": [],
   "source": [
    "'''class --- structure\n",
    "instance - blueprint\n",
    "\n",
    "syntax:\n",
    "class userdefinedname:\n",
    "           stmt1\n",
    "           stmt2\n",
    "           stmt3'''"
   ]
  },
  {
   "cell_type": "code",
   "execution_count": 1,
   "id": "ba745800-edd3-4307-8e21-0b2c971b3f70",
   "metadata": {},
   "outputs": [
    {
     "name": "stdout",
     "output_type": "stream",
     "text": [
      "9\n"
     ]
    }
   ],
   "source": [
    "class abc:\n",
    "    value=9\n",
    "obj1=abc()\n",
    "print(obj1.value)"
   ]
  },
  {
   "cell_type": "code",
   "execution_count": 3,
   "id": "d5fc56bc-d0d6-4ccd-a280-d0de72082a48",
   "metadata": {},
   "outputs": [
    {
     "name": "stdout",
     "output_type": "stream",
     "text": [
      "9\n",
      "this is a class method\n"
     ]
    }
   ],
   "source": [
    "class abc:\n",
    "    value=9\n",
    "    def display(self):\n",
    "        print(\"this is a class method\")\n",
    "obj1=abc()\n",
    "print(obj1.value)\n",
    "obj1.display()"
   ]
  },
  {
   "cell_type": "code",
   "execution_count": 4,
   "id": "b79c9165-334f-487a-ba2a-a637c7629b8e",
   "metadata": {},
   "outputs": [
    {
     "name": "stdin",
     "output_type": "stream",
     "text": [
      "enter a value 4\n"
     ]
    },
    {
     "name": "stdout",
     "output_type": "stream",
     "text": [
      "this is a class method\n",
      "accessed value in class is 4\n"
     ]
    }
   ],
   "source": [
    "class abc:\n",
    "    def __init__(self,value):\n",
    "        print(\"this is a class method\")\n",
    "        self.value=value\n",
    "        print(\"accessed value in class is\",value)\n",
    "n=int(input(\"enter a value\"))        \n",
    "obj=abc(n)"
   ]
  },
  {
   "cell_type": "code",
   "execution_count": 11,
   "id": "57c4ca34-9d3c-4a71-aaf6-e1cc5675522e",
   "metadata": {},
   "outputs": [
    {
     "name": "stdout",
     "output_type": "stream",
     "text": [
      "Hello I am vijay and i am 32 year-old.\n"
     ]
    }
   ],
   "source": [
    "class Student:\n",
    "    def __init__(self,name,age):\n",
    "        self.name=name\n",
    "        self.age=age\n",
    "    def hi(self):\n",
    "        print(f\"Hello I am {self.name} and i am {self.age} year-old.\")\n",
    "s1=Student('vijay',32)\n",
    "s1.hi()"
   ]
  },
  {
   "cell_type": "code",
   "execution_count": 12,
   "id": "fd681580-04b1-4859-9a2c-a7835b8b65e4",
   "metadata": {},
   "outputs": [
    {
     "name": "stdin",
     "output_type": "stream",
     "text": [
      "Enter the radius: 3\n"
     ]
    },
    {
     "name": "stdout",
     "output_type": "stream",
     "text": [
      "area of circle: 28.274333882308138\n"
     ]
    }
   ],
   "source": [
    "import math\n",
    "class circle:\n",
    "    def __init__(self,radius):\n",
    "        self.radius=radius\n",
    "    def area(self):\n",
    "        return math.pi*self.radius**2\n",
    "r=int(input(\"Enter the radius:\"))\n",
    "c= circle(r)\n",
    "print(\"area of circle:\",c.area())"
   ]
  },
  {
   "cell_type": "code",
   "execution_count": 20,
   "id": "6a37fe6b-a67a-4f0f-8371-ed348205b277",
   "metadata": {},
   "outputs": [
    {
     "name": "stdin",
     "output_type": "stream",
     "text": [
      "Enter the radius: 3\n"
     ]
    },
    {
     "name": "stdout",
     "output_type": "stream",
     "text": [
      "area of circle: 28.274333882308138\n",
      "circumference of circle: 18.84955592153876\n"
     ]
    }
   ],
   "source": [
    "import math\n",
    "class circle:\n",
    "    def __init__(self,radius):\n",
    "        self.radius=radius\n",
    "    def area(self):\n",
    "        return math.pi*self.radius**2\n",
    "    def circumference(self):\n",
    "        return 2*(math.pi)*self.radius\n",
    "r=int(input(\"Enter the radius:\"))\n",
    "c= circle(r)\n",
    "print(f\"area of circle:\",c.area())\n",
    "print(\"circumference of circle:\",c.circumference())\n"
   ]
  },
  {
   "cell_type": "code",
   "execution_count": 21,
   "id": "1952a3ae-26aa-44c5-8b25-0eaaeca21bb7",
   "metadata": {},
   "outputs": [
    {
     "name": "stdin",
     "output_type": "stream",
     "text": [
      "enter the number: 5\n"
     ]
    },
    {
     "name": "stdout",
     "output_type": "stream",
     "text": [
      "factorial: 120\n"
     ]
    }
   ],
   "source": [
    "''' code to find and print the factorial of a given number using a class called math and register the given\n",
    "number in a construct in a constructor to caluclate. return the value by passing to the main function'''\n",
    "class Math:\n",
    "    def __init__(self,num):\n",
    "        self.num=num\n",
    "    def fact(self):\n",
    "        f=1\n",
    "        for i in range(1,self.num+1):\n",
    "            f*=i\n",
    "        return f\n",
    "number=int(input(\"enter the number:\"))\n",
    "m=Math(number)\n",
    "print(\"factorial:\",m.fact())\n"
   ]
  },
  {
   "cell_type": "code",
   "execution_count": 22,
   "id": "c09f20e7-1b50-4a24-b7f7-03ed6565a501",
   "metadata": {},
   "outputs": [
    {
     "name": "stdin",
     "output_type": "stream",
     "text": [
      "enter a number: 25\n"
     ]
    },
    {
     "name": "stdout",
     "output_type": "stream",
     "text": [
      "squareroot:5.00\n"
     ]
    }
   ],
   "source": [
    "'''code to import the sqrt function and caluculate the value by cretaing a class Squareroot and define a function for finding the \n",
    "root . return the value to the main program'''\n",
    "class Math:\n",
    "    def __init__(self,num):\n",
    "        self.num=num\n",
    "    def squareroot(self):\n",
    "        return math.sqrt(self.num)\n",
    "number=int(input(\"enter a number:\"))\n",
    "m=Math(number)\n",
    "print(f\"squareroot:{m.squareroot():.2f}\")"
   ]
  },
  {
   "cell_type": "code",
   "execution_count": 24,
   "id": "044b7d71-808a-4267-bfcf-a2685d7b0e8d",
   "metadata": {},
   "outputs": [
    {
     "name": "stdout",
     "output_type": "stream",
     "text": [
      "even list: [32, 38]\n",
      "odd list: [21, 33, 53]\n"
     ]
    }
   ],
   "source": [
    "'''code to modfit a mutable list using a class number for accumlating even/odd values  into a list return\n",
    "the event list and odd list with last modified element'''\n",
    "\n",
    "class number:\n",
    "    even=[]\n",
    "    odd=[]\n",
    "    def __init__(self,n):\n",
    "        self.n=n\n",
    "        if n%2==0:\n",
    "            number.even.append(n)\n",
    "        else:\n",
    "            number.odd.append(n)\n",
    "n1=number(21)\n",
    "n2=number(33)\n",
    "n3=number(32)\n",
    "n4=number(38)\n",
    "n5=number(53)\n",
    "print(\"even list:\",number.even)\n",
    "print(\"odd list:\",number.odd)\n"
   ]
  },
  {
   "cell_type": "code",
   "execution_count": null,
   "id": "3e924c58-1e1f-4d48-aaa2-2c44fcbf8654",
   "metadata": {},
   "outputs": [],
   "source": [
    "'''__del__():\n",
    "const:\n",
    "class abc:\n",
    "     def __init__(sef,v1,v2.....):\n",
    "           self.v1=v1\n",
    "     def __del__(self):\n",
    "        abc.v1'''"
   ]
  },
  {
   "cell_type": "code",
   "execution_count": 7,
   "id": "880518d4-c455-4189-bfcc-12656c06b3d1",
   "metadata": {},
   "outputs": [
    {
     "name": "stdout",
     "output_type": "stream",
     "text": [
      "object variable: 11\n",
      "class variable 10\n",
      "obj var with 11 is deleted\n",
      "object variable: 12\n",
      "class variable 19\n",
      "obj var with 12 is deleted\n",
      "object variable: 13\n",
      "class variable 28\n"
     ]
    }
   ],
   "source": [
    "class rose():\n",
    "    class_var=0\n",
    "    def __init__(self,var):\n",
    "        rose.class_var +=10\n",
    "        self.var=var\n",
    "        print(\"object variable:\",var)\n",
    "        print(\"class variable\",rose.class_var)\n",
    "object1=rose(11)\n",
    "object2=rose(12)\n",
    "object3=rose(13)"
   ]
  },
  {
   "cell_type": "code",
   "execution_count": 4,
   "id": "ffd92102-7aa9-4570-a5fc-98f129d55f09",
   "metadata": {},
   "outputs": [
    {
     "name": "stdout",
     "output_type": "stream",
     "text": [
      "object variable: 11\n",
      "class variable 10\n",
      "object variable: 12\n",
      "class variable 20\n",
      "object variable: 13\n",
      "class variable 30\n",
      "obj var with 13 is deleted\n"
     ]
    }
   ],
   "source": [
    "'''del method/class variable with const access'''\n",
    "class rose():\n",
    "    class_var=0\n",
    "    def __init__(self,var):\n",
    "        rose.class_var +=10\n",
    "        self.var=var\n",
    "        print(\"object variable:\",var)\n",
    "        print(\"class variable\",rose.class_var)\n",
    "    def __del__(self):\n",
    "        rose.class_var-=1\n",
    "        print(\"obj var with %d is deleted\" %self.var)\n",
    "object1=rose(11)\n",
    "object2=rose(12)\n",
    "object3=rose(13)\n",
    "del object3"
   ]
  },
  {
   "cell_type": "code",
   "execution_count": 6,
   "id": "552ce521-8c3f-41a9-a794-88145173fa1c",
   "metadata": {},
   "outputs": [
    {
     "name": "stdin",
     "output_type": "stream",
     "text": [
      "enter the value of a: 10\n",
      "enter the value of b: 5\n"
     ]
    },
    {
     "name": "stdout",
     "output_type": "stream",
     "text": [
      "calc object created......\n",
      "addition: 15\n",
      "subtract: 5\n"
     ]
    }
   ],
   "source": [
    "class calc:\n",
    "    def __init__(self,a,b):\n",
    "        self.a=a\n",
    "        self.b=b\n",
    "        print(\"calc object created......\")\n",
    "    def add(self):\n",
    "        return self.a+self.b\n",
    "    def sub(self):\n",
    "        return self.a-self.b\n",
    "a=int(input(\"enter the value of a:\"))\n",
    "b=int(input(\"enter the value of b:\"))\n",
    "c=calc(a,b)\n",
    "print(\"addition:\",c.add())\n",
    "print(\"subtract:\",c.sub())"
   ]
  },
  {
   "cell_type": "code",
   "execution_count": 10,
   "id": "e95ec4a8-d124-4cf5-b9ef-a2f879f2f137",
   "metadata": {},
   "outputs": [
    {
     "name": "stdin",
     "output_type": "stream",
     "text": [
      "enter the value of a: 6\n",
      "enter the value of b: 4\n"
     ]
    },
    {
     "name": "stdout",
     "output_type": "stream",
     "text": [
      "calc object created......\n",
      "created calc object was deleted\n",
      "addition: 10\n",
      "subtract: 2\n"
     ]
    }
   ],
   "source": [
    "class calc:\n",
    "    def __init__(self,a,b):\n",
    "        self.a=a\n",
    "        self.b=b\n",
    "        print(\"calc object created......\")\n",
    "    def add(self):\n",
    "        return self.a+self.b\n",
    "    def sub(self):\n",
    "        return self.a-self.b\n",
    "    def __del__(self):\n",
    "        print(\"created calc object was deleted\")\n",
    "a=int(input(\"enter the value of a:\"))\n",
    "b=int(input(\"enter the value of b:\"))\n",
    "c=calc(a,b)\n",
    "print(\"addition:\",c.add())\n",
    "print(\"subtract:\",c.sub())\n",
    "del calc"
   ]
  },
  {
   "cell_type": "code",
   "execution_count": 14,
   "id": "677bbd3a-7e8c-4a36-8347-b80b8e1b071d",
   "metadata": {},
   "outputs": [
    {
     "name": "stdin",
     "output_type": "stream",
     "text": [
      "enter radius value: 5\n"
     ]
    },
    {
     "name": "stdout",
     "output_type": "stream",
     "text": [
      "rectangle obj is created...\n",
      "area of circle: 78.53981633974483\n",
      "circumference of circle: 31.41592653589793\n",
      "created rectangle object was deleted\n"
     ]
    }
   ],
   "source": [
    "'''code to calc area and circumference of a circle by using a class rectangle, create a constructor and seperate\n",
    "functions for circ and delete the constructor import math pi value'''\n",
    "import math\n",
    "class rectangle:\n",
    "    def __init__(self,radius):\n",
    "        self.radius=radius\n",
    "        print (\"rectangle obj is created...\")\n",
    "    def area(self):\n",
    "        return math.pi*self.radius**2\n",
    "    def circumference(self):\n",
    "        return 2*(math.pi)*self.radius\n",
    "    def __del__(self):\n",
    "        print(\"created rectangle object was deleted\")\n",
    "a=int(input(\"enter radius value:\"))\n",
    "c=rectangle(a)\n",
    "print(\"area of circle:\",c.area())\n",
    "print(\"circumference of circle:\",c.circumference())\n",
    "del c\n",
    "        "
   ]
  },
  {
   "cell_type": "code",
   "execution_count": null,
   "id": "dbab4fc4-1da0-48b6-b752-4ed58f47c54b",
   "metadata": {},
   "outputs": [],
   "source": [
    "21-07-2025"
   ]
  },
  {
   "cell_type": "code",
   "execution_count": null,
   "id": "12d279d7-cc75-4306-8cd2-73093daf4f85",
   "metadata": {},
   "outputs": [],
   "source": [
    "'''special methods:\n",
    "__cpm__()--> objects comparision\n",
    "__len__()--> len(objects)\n",
    "__repr__()--> str representation\n",
    "__call__()--> n args\n",
    "comparitive methods:\n",
    "__lt__()->less than\n",
    "__le__()->lessthan or equaltoo\n",
    "__eq__()-> equal\n",
    "__ne__()->not equal\n",
    "__gt__()->greater than\n",
    "__ge__()->greaterthan or equal\n",
    "__hash__()--> used for an obj/it will decide the place of any object data structure\n",
    "__iter__()--> iteration over objects\n",
    "__getiter__()--> used for indexing key \n",
    "__setitem__() --> (self,key, value)\n",
    "'''"
   ]
  },
  {
   "cell_type": "code",
   "execution_count": 21,
   "id": "4421e29d-d22a-4503-b493-7dcbc04e3b34",
   "metadata": {},
   "outputs": [
    {
     "name": "stdout",
     "output_type": "stream",
     "text": [
      "6\n",
      "[1, 2, 3, 100, 5, 6, 7, 8, 9, 10]\n"
     ]
    }
   ],
   "source": [
    "class numbers:\n",
    "    def __init__(self,mylist):\n",
    "        self.mylist=mylist\n",
    "    def __getitem__(self,index):\n",
    "        return self.mylist[index]\n",
    "    def __setitem__(self,index,val):\n",
    "        self.mylist[index]=val\n",
    "numlist=numbers([1,2,3,4,5,6,7,8,9,10])\n",
    "print(numlist[5])\n",
    "numlist[3]=100\n",
    "print(numlist.mylist)"
   ]
  },
  {
   "cell_type": "code",
   "execution_count": 24,
   "id": "a87ea668-fc8b-404c-bff1-91d4463589c7",
   "metadata": {},
   "outputs": [
    {
     "name": "stdout",
     "output_type": "stream",
     "text": [
      "sum of row 0: 3\n",
      "sum of row 2: 11\n",
      "New sum of row 1: 30\n"
     ]
    }
   ],
   "source": [
    "#math evaluation on __getitem__() and __setitem__()\n",
    "'''code to add the sum of rows in a 2-d list'''\n",
    "class rowSum:\n",
    "    def __init__(self,matrix):\n",
    "        self.matrix=matrix\n",
    "    def __getitem__(self,row):\n",
    "        return sum(self.matrix[row])\n",
    "    def __setitem__(self,row,new_row):\n",
    "        self.matrix[row]=new_row\n",
    "m=rowSum([[1,2],[3,4],[5,6]])\n",
    "# sum of 0 index row values=3\n",
    "# sum of 1 index row values=11\n",
    "print(\"sum of row 0:\",m[0])\n",
    "print(\"sum of row 2:\",m[2])\n",
    "m[1]=[10,20]\n",
    "print (\"New sum of row 1:\",m[1])"
   ]
  },
  {
   "cell_type": "code",
   "execution_count": null,
   "id": "07402d8e-8003-4093-967c-b50d0960dd15",
   "metadata": {},
   "outputs": [],
   "source": [
    "''' code to create a class of vowel_mask where vowels in the text must be masked with consonents,\n",
    "create a getitem and setitem for accessing the vowels in the text\n",
    "input :'education'\n",
    "output:'d*c*t**n ext\n",
    "'''\n",
    "class vowelmask:\n",
    "    def __init__(self,text):\n",
    "        self.text=text\n",
    "    def __getitem__(self,index):\n",
    "        return self.text[index]\n",
    "    def __setitem__(self,index,value):\n",
    "        self.text[index]=value\n",
    "    def "
   ]
  },
  {
   "cell_type": "code",
   "execution_count": 3,
   "id": "a6702bef-eccf-47fb-857f-e6afe8180f6a",
   "metadata": {},
   "outputs": [
    {
     "name": "stdout",
     "output_type": "stream",
     "text": [
      "even mutable: [32, 54]\n",
      "odd mutable: [21, 43, 65]\n"
     ]
    }
   ],
   "source": [
    "'''Mutable type attributes\n",
    "code to illustrate multiple attributed by calling a class for its specifications\n",
    "for example n=21,32,43,54,65\n",
    "even list:[32,54]\n",
    "odd list:[21,43,65]'''\n",
    "class number:\n",
    "    evens=[]\n",
    "    odds=[]\n",
    "    def __init__(self,num):\n",
    "        self.num=num\n",
    "        if num%2 == 0:\n",
    "            number.evens.append(num)\n",
    "        else:\n",
    "            number.odds.append(num)\n",
    "n1=number(21)\n",
    "n2=number(32)\n",
    "n3=number(43)\n",
    "n4=number(54)\n",
    "n5=number(65)\n",
    "print(\"even mutable:\",number.evens)\n",
    "print(\"odd mutable:\",number.odds)"
   ]
  },
  {
   "cell_type": "code",
   "execution_count": 4,
   "id": "34bcfc5a-d199-4a46-b04b-f7c410ce8829",
   "metadata": {},
   "outputs": [
    {
     "name": "stdin",
     "output_type": "stream",
     "text": [
      "enter number with spaces 2 45 6 78\n"
     ]
    },
    {
     "name": "stdout",
     "output_type": "stream",
     "text": [
      "even mutable: [2, 6, 78]\n",
      "odd mutable: [45]\n"
     ]
    }
   ],
   "source": [
    "class number:\n",
    "    evens=[]\n",
    "    odds=[]\n",
    "    def __init__(self,num):\n",
    "        self.num=num\n",
    "        if num%2 == 0:\n",
    "            number.evens.append(num)\n",
    "        else:\n",
    "            number.odds.append(num)\n",
    "num=input(\"enter number with spaces\").split(\" \")\n",
    "for n in num:\n",
    "    number(int(n))\n",
    "print(\"even mutable:\",number.evens)\n",
    "print(\"odd mutable:\",number.odds)"
   ]
  },
  {
   "cell_type": "code",
   "execution_count": 7,
   "id": "740df501-0b94-4f4c-a905-20dca0f9d240",
   "metadata": {},
   "outputs": [
    {
     "name": "stdin",
     "output_type": "stream",
     "text": [
      "enter the value of n: 4\n"
     ]
    },
    {
     "name": "stdout",
     "output_type": "stream",
     "text": [
      "given val: 4\n",
      "given val: 64\n"
     ]
    }
   ],
   "source": [
    "def op(x):\n",
    "    return x**3\n",
    "class abc():\n",
    "    def __init__(self,val):\n",
    "        self.val=val\n",
    "    def display(self):\n",
    "        print(\"given val:\",self.val)\n",
    "    def modify(self):\n",
    "        self.val=op(self.val)\n",
    "n=int(input(\"enter the value of n:\"))    \n",
    "o=abc(n)\n",
    "o.display()\n",
    "o.modify()\n",
    "o.display()"
   ]
  },
  {
   "cell_type": "code",
   "execution_count": 24,
   "id": "5cdb4f42-e78c-4f5c-bd42-88c450054a4b",
   "metadata": {},
   "outputs": [
    {
     "name": "stdin",
     "output_type": "stream",
     "text": [
      "enter a number: 6\n"
     ]
    },
    {
     "name": "stdout",
     "output_type": "stream",
     "text": [
      "6 is not a prime number\n"
     ]
    }
   ],
   "source": [
    "class prime():\n",
    "    def __init__(self,val):\n",
    "        self.val=val\n",
    "    def is_Prime(self):\n",
    "        if self.val<=1:\n",
    "            return False\n",
    "        for i in range(2,int(self.val**0.5)+1):\n",
    "            if self.val%i==0:\n",
    "                return False\n",
    "        return True\n",
    "n=int(input(\"enter a number:\"))\n",
    "t=prime(n)\n",
    "if t.is_Prime():\n",
    "    print(n,\"is a prime number\")\n",
    "else:\n",
    "    print(n,\"is not a prime number\")"
   ]
  },
  {
   "cell_type": "code",
   "execution_count": 28,
   "id": "b6b6641d-1dce-4b96-8edd-efc4826a03c2",
   "metadata": {},
   "outputs": [
    {
     "name": "stdin",
     "output_type": "stream",
     "text": [
      "enter n1 3\n",
      "enter n2 4.5\n"
     ]
    },
    {
     "name": "stdout",
     "output_type": "stream",
     "text": [
      "object.__dict__: {'var1': 3, 'var2': 4.5}\n",
      "object.__doc__: None\n",
      "class.__name__: abc\n",
      "object.__module__: __main__\n",
      "class.__base__: <class 'object'>\n"
     ]
    }
   ],
   "source": [
    "class abc():\n",
    "    def __init__(self,var1,var2):\n",
    "        self.var1=var1\n",
    "        self.var2=var2\n",
    "    def display(self):\n",
    "        print(\"var1\",self.var1)\n",
    "        print(\"var2\",self.var2)\n",
    "n1= int(input(\"enter n1\"))\n",
    "n2= float(input(\"enter n2\"))\n",
    "o=abc(n1,n2)\n",
    "print(\"object.__dict__:\",o.__dict__)\n",
    "print(\"object.__doc__:\",o.__doc__)\n",
    "print(\"class.__name__:\",abc.__name__)\n",
    "print(\"object.__module__:\",o.__module__)\n",
    "print(\"class.__base__:\",abc.__base__)"
   ]
  },
  {
   "cell_type": "code",
   "execution_count": 30,
   "id": "1d744eda-fcd7-4df9-ab62-18352bfc7127",
   "metadata": {},
   "outputs": [
    {
     "name": "stdout",
     "output_type": "stream",
     "text": [
      "<class 'type'>\n",
      "1704\n",
      "48\n"
     ]
    }
   ],
   "source": [
    "'''code to view the memory info in a class,which gives the type of the class,size of class object,\n",
    "and size of instance\n",
    "const:use package -sys for size of given value num=10\n",
    "'''\n",
    "import sys\n",
    "class A:\n",
    "    n=10\n",
    "a=A()\n",
    "print(type(A))\n",
    "print(sys.getsizeof(A))\n",
    "print(sys.getsizeof(a))"
   ]
  },
  {
   "cell_type": "code",
   "execution_count": null,
   "id": "512aab65-535c-4eea-90ec-6909b9e433e1",
   "metadata": {},
   "outputs": [
    {
     "name": "stdin",
     "output_type": "stream",
     "text": [
      "enter ammount in account 3000\n"
     ]
    },
    {
     "name": "stdout",
     "output_type": "stream",
     "text": [
      "1.check balance\n",
      "2.deposit\n",
      "3.withdraw\n",
      "4.exit\n"
     ]
    },
    {
     "name": "stdin",
     "output_type": "stream",
     "text": [
      "enter your choice: 2\n",
      "enter amount to deposit: 200\n"
     ]
    },
    {
     "name": "stdout",
     "output_type": "stream",
     "text": [
      "200.0 deposited in the account, \n",
      " new balance=3200.0\n",
      "1.check balance\n",
      "2.deposit\n",
      "3.withdraw\n",
      "4.exit\n"
     ]
    }
   ],
   "source": [
    "class ATM:\n",
    "    def __init__(self,balance):\n",
    "        self.balance=balance\n",
    "    def check_balance(self):\n",
    "        print(f\"current balance:{self.balance}\")\n",
    "    def deposit(self,amount):\n",
    "        if amount>0:\n",
    "            self.balance+=amount\n",
    "            print(f\"{amount} deposited in the account, \\n new balance={self.balance}\")\n",
    "        else:\n",
    "            print(\"error\")\n",
    "    def withdraw(self,amount):\n",
    "        if amount<=self.balance:\n",
    "            self.balance-=amount\n",
    "            print(f\"{amount} withdrawn from the account, new balance={self.balance}\")\n",
    "        else:\n",
    "            print(\"insufficient ammount\")\n",
    "bal=float(input(\"enter ammount in account\"))\n",
    "atm=ATM(balance=bal)\n",
    "while True:\n",
    "    print(\"1.check balance\")\n",
    "    print(\"2.deposit\")\n",
    "    print(\"3.withdraw\")\n",
    "    print(\"4.exit\")\n",
    "    choice=int(input(\"enter your choice:\"))\n",
    "    if choice==1:\n",
    "        atm.check_balance()\n",
    "    elif choice==2:\n",
    "        amt=float(input(\"enter amount to deposit:\"))\n",
    "        atm.deposit(amt)\n",
    "    elif choice==3:\n",
    "        amt=float(input(\"enter amount to withdraw:\"))\n",
    "        atm.withdraw(amt)\n",
    "    elif choice==4:\n",
    "        print(\"Thankyou\")\n",
    "        break\n",
    "    else:\n",
    "        print(\"Invalid,Try Again\")"
   ]
  },
  {
   "cell_type": "code",
   "execution_count": 34,
   "id": "4356a551-02df-4a19-b832-88322b1f1ca7",
   "metadata": {},
   "outputs": [
    {
     "name": "stdin",
     "output_type": "stream",
     "text": [
      "enter a 4 digit pin: 1234\n",
      "enter amount debit: 2000\n"
     ]
    },
    {
     "name": "stdout",
     "output_type": "stream",
     "text": [
      "2000 debited. remaining balance 3000\n"
     ]
    }
   ],
   "source": [
    "'''create a class atm and check the pin user 1234\n",
    "define a funcion to withdraw 2000/-,balance amount from account 5000,if the amount is over the balance exit and check the pin\n",
    "for accessing the account'''\n",
    "class ATM:\n",
    "    def __init__(self):\n",
    "        self.balance=5000\n",
    "        self.pin=\"1234\"\n",
    "    def process(self):\n",
    "        user_pin=input(\"enter a 4 digit pin:\")\n",
    "        if user_pin==self.pin:\n",
    "            amount=int(input(\"enter amount debit:\"))\n",
    "            if amount<=self.balance:\n",
    "                self.balance-=amount\n",
    "                print(f\"{amount} debited. remaining balance {self.balance}\")\n",
    "            else:\n",
    "                print(\"Insufficient funds!!!.Transaction cancelled\")\n",
    "        else:\n",
    "            print(\"incorrect pin\")\n",
    "atm=ATM()\n",
    "atm.process()"
   ]
  },
  {
   "cell_type": "code",
   "execution_count": null,
   "id": "a4667729-54cf-4d22-95f1-b26a76fc919d",
   "metadata": {},
   "outputs": [],
   "source": [
    "28-07-2025"
   ]
  },
  {
   "cell_type": "code",
   "execution_count": 2,
   "id": "0555d60c-e3ac-4580-94c5-64573668e5e5",
   "metadata": {},
   "outputs": [
    {
     "name": "stdin",
     "output_type": "stream",
     "text": [
      "Enter the name: tapu\n",
      "Enter the marks:  1000\n"
     ]
    },
    {
     "name": "stdout",
     "output_type": "stream",
     "text": [
      "student name:tapu\n",
      "student marks:1000\n"
     ]
    }
   ],
   "source": [
    "'''\n",
    "class method:not the instance,class bound\n",
    "class class(1st arg)\n",
    "@class method: no the instance,class bound\n",
    "'''\n",
    "class student:\n",
    "    def __init__(s,name,marks):\n",
    "        s.name=name\n",
    "        s.marks=marks\n",
    "    def display(self):\n",
    "        print(f\"student name:{s.name}\")\n",
    "        print(f\"student marks:{s.marks}\")\n",
    "name=str(input(\"Enter the name:\" ))\n",
    "marks=int(input(\"Enter the marks: \"))\n",
    "s=student(name,marks)\n",
    "s.display()"
   ]
  },
  {
   "cell_type": "code",
   "execution_count": 5,
   "id": "4e99d117-d6fb-424b-bcbf-aa6d7698a9ef",
   "metadata": {},
   "outputs": [
    {
     "name": "stdin",
     "output_type": "stream",
     "text": [
      "enter the name: tapu\n",
      "enter the marks 500\n"
     ]
    },
    {
     "name": "stdout",
     "output_type": "stream",
     "text": [
      "student name:tapu\n",
      "student marks:500\n"
     ]
    }
   ],
   "source": [
    "class student:\n",
    "    def __init__(self,name,marks):\n",
    "        self.name=name\n",
    "        self.marks=marks\n",
    "    @classmethod\n",
    "    def input(cls):\n",
    "        name=str(input(\"enter the name:\"))\n",
    "        marks=int(input(\"enter the marks\"))\n",
    "        return cls(name,marks)\n",
    "    def display(self):\n",
    "        print(f\"student name:{self.name}\")\n",
    "        print(f\"student marks:{self.marks}\")\n",
    "s=student.input()\n",
    "s.display()"
   ]
  },
  {
   "cell_type": "code",
   "execution_count": 20,
   "id": "dce1ab47-7764-4029-97ef-9ebbbb1f9c2b",
   "metadata": {},
   "outputs": [
    {
     "name": "stdin",
     "output_type": "stream",
     "text": [
      "enter the product name: dell\n",
      "Enter the base price 40000\n",
      "Enter tax_rate in %: 10\n"
     ]
    },
    {
     "name": "stdout",
     "output_type": "stream",
     "text": [
      "Final price dell is rs.44000.00\n"
     ]
    }
   ],
   "source": [
    "'''code to illustrate a product with its price by normal instance and caluculte the products tax rate by 10% in a class \n",
    "method and print the total amount to be paid'''\n",
    "\n",
    "class product:\n",
    "    #tax_rate=0.18\n",
    "    def __init__(self,name,price):\n",
    "        self.name=name\n",
    "        self.price=price\n",
    "    def finalprice(self):\n",
    "        total=self.price*(1+product.tax_rate)\n",
    "        print(f\"Final price {self.name} is rs.{total:.2f}\")\n",
    "    @classmethod\n",
    "    def settax(cls,rate):\n",
    "        cls.tax_rate=rate/100\n",
    "name=str(input(\"enter the product name:\"))\n",
    "price=float(input(\"Enter the base price\"))\n",
    "rate=int(input(\"Enter tax_rate in %:\"))\n",
    "product.settax(rate)\n",
    "item=product(name,price)\n",
    "item.finalprice()"
   ]
  },
  {
   "cell_type": "code",
   "execution_count": 22,
   "id": "655a683a-2739-4df1-97dd-1ae7bf0d93ee",
   "metadata": {},
   "outputs": [
    {
     "name": "stdin",
     "output_type": "stream",
     "text": [
      "enter the value of a: 19\n",
      "enter the value of b: 3\n"
     ]
    },
    {
     "name": "stdout",
     "output_type": "stream",
     "text": [
      "Addition result: 22\n"
     ]
    }
   ],
   "source": [
    "'''basic math operation using @classmethod'''\n",
    "class calculator:\n",
    "    def __init__(s,a,b):\n",
    "        s.a=a\n",
    "        s.b=b\n",
    "    @classmethod\n",
    "    def input(cls):\n",
    "        a=int(input(\"enter the value of a:\"))\n",
    "        b=int(input(\"enter the value of b:\"))\n",
    "        return cls(a,b)\n",
    "    def add(self):\n",
    "        return self.a+self.b\n",
    "c=calculator.input()\n",
    "print(\"Addition result:\",c.add())"
   ]
  },
  {
   "cell_type": "code",
   "execution_count": 26,
   "id": "ba2bddb5-a6d7-45ce-b25d-3a80dfb51ab7",
   "metadata": {},
   "outputs": [
    {
     "name": "stdin",
     "output_type": "stream",
     "text": [
      "enter the value of a: 16\n",
      "enter the value of b: 5\n"
     ]
    },
    {
     "name": "stdout",
     "output_type": "stream",
     "text": [
      "addition: 21\n",
      "sub: 11\n",
      "multiplication: 80\n",
      "division: 3.2\n"
     ]
    }
   ],
   "source": [
    "class calculator:\n",
    "    def __init__(s,a,b):\n",
    "        s.a=a\n",
    "        s.b=b\n",
    "    @classmethod\n",
    "    def input(cls):\n",
    "        a=int(input(\"enter the value of a:\"))\n",
    "        b=int(input(\"enter the value of b:\"))\n",
    "        return cls(a,b)\n",
    "    def add(self):\n",
    "        print(\"addition:\", self.a+self.b)\n",
    "    def sub(self):\n",
    "        print(\"sub:\", self.a-self.b)\n",
    "    def mul(self):\n",
    "        print(\"multiplication:\", self.a*self.b)\n",
    "    def div(self):\n",
    "        print(\"division:\", self.a/self.b)\n",
    "c=calculator.input()\n",
    "c.add()\n",
    "c.sub()\n",
    "c.mul()\n",
    "c.div()"
   ]
  },
  {
   "cell_type": "code",
   "execution_count": 27,
   "id": "7365fec8-e60d-4790-9f6b-d987e6f46e8c",
   "metadata": {},
   "outputs": [
    {
     "name": "stdin",
     "output_type": "stream",
     "text": [
      "enter the value of a: 4\n",
      "enter the value of b: 2\n"
     ]
    },
    {
     "name": "stdout",
     "output_type": "stream",
     "text": [
      "addition: 6\n",
      "sub: 2\n",
      "multiplication: 8\n",
      "division: 2.0\n"
     ]
    }
   ],
   "source": [
    "class calculator:\n",
    "    def __init__(s,a,b):\n",
    "        s.a=a\n",
    "        s.b=b\n",
    "    @classmethod\n",
    "    def input(cls):\n",
    "        a=int(input(\"enter the value of a:\"))\n",
    "        b=int(input(\"enter the value of b:\"))\n",
    "        return cls(a,b)\n",
    "    def op(self):\n",
    "        print(\"addition:\", self.a+self.b)\n",
    "        print(\"sub:\", self.a-self.b)\n",
    "        print(\"multiplication:\", self.a*self.b)\n",
    "        print(\"division:\", self.a/self.b)\n",
    "c=calculator.input()\n",
    "c.op()"
   ]
  },
  {
   "cell_type": "code",
   "execution_count": 35,
   "id": "37c9d3c6-ee97-4060-b1b7-1bce43a3f4e3",
   "metadata": {},
   "outputs": [
    {
     "name": "stdin",
     "output_type": "stream",
     "text": [
      "Enter your name: lasya\n",
      "enter resident or non resident  indian\n"
     ]
    },
    {
     "name": "stdout",
     "output_type": "stream",
     "text": [
      "name : lasya\n",
      "student gender: Female\n",
      "the person is indian\n"
     ]
    }
   ],
   "source": [
    "'''static method @staticmethod'''\n",
    "class student:\n",
    "    gender='Female'\n",
    "    def __init__(s,name):\n",
    "        s.name=name\n",
    "    def display(S):\n",
    "        print(f\"name : {s.name}\")\n",
    "    @classmethod\n",
    "    def getname(cls):\n",
    "        return cls.gender\n",
    "    @staticmethod\n",
    "    def resident(type_of_resident):\n",
    "        if type_of_resident.lower()==\"indian\":\n",
    "            return \"the person is indian\"\n",
    "        else:\n",
    "            return \"the person is non resident\"\n",
    "name=str(input(\"Enter your name:\"))\n",
    "type=input(\"enter resident or non resident \")\n",
    "s=student(name)\n",
    "s.display()\n",
    "print(\"student gender:\",student.getname())\n",
    "print(s.resident(type))"
   ]
  },
  {
   "cell_type": "code",
   "execution_count": 36,
   "id": "15437a12-58bf-4b7d-b5ba-9324cc88d7b7",
   "metadata": {},
   "outputs": [
    {
     "name": "stdin",
     "output_type": "stream",
     "text": [
      "enter a value: 12\n",
      "enter a value: 1\n"
     ]
    },
    {
     "name": "stdout",
     "output_type": "stream",
     "text": [
      "sum 13\n"
     ]
    }
   ],
   "source": [
    "class op:\n",
    "    @staticmethod\n",
    "    def add(a,b):\n",
    "        return a+b\n",
    "x=int(input(\"enter a value:\"))\n",
    "y=int(input(\"enter a value:\"))\n",
    "print(\"sum\",op.add(x,y))"
   ]
  },
  {
   "cell_type": "code",
   "execution_count": 37,
   "id": "fbb9de32-5f63-4aee-9b06-8a0b46faa331",
   "metadata": {},
   "outputs": [
    {
     "name": "stdin",
     "output_type": "stream",
     "text": [
      "enter a value: 3\n",
      "enter a value: 3\n"
     ]
    },
    {
     "name": "stdout",
     "output_type": "stream",
     "text": [
      "sum: 6\n",
      "sub: 0\n",
      "mul: 9\n",
      "div: 1.0\n"
     ]
    }
   ],
   "source": [
    "class op:\n",
    "    @staticmethod\n",
    "    def operate(a,b):\n",
    "        print(\"sum:\", a+b)\n",
    "        print(\"sub:\", a-b)\n",
    "        print(\"mul:\", a*b)\n",
    "        print(\"div:\", a/b)\n",
    "x=int(input(\"enter a value:\"))\n",
    "y=int(input(\"enter a value:\"))\n",
    "op.operate(x,y)"
   ]
  },
  {
   "cell_type": "code",
   "execution_count": 39,
   "id": "6b4747f5-e7ae-4c67-92c1-b9b8c3f0a20e",
   "metadata": {},
   "outputs": [
    {
     "name": "stdin",
     "output_type": "stream",
     "text": [
      "enter number 2\n",
      "enter 2nd number 4\n"
     ]
    },
    {
     "name": "stdout",
     "output_type": "stream",
     "text": [
      "Assition_Instance: 6\n"
     ]
    },
    {
     "name": "stdin",
     "output_type": "stream",
     "text": [
      "enter number for mul: 6\n",
      "enter anothe number 7\n"
     ]
    },
    {
     "name": "stdout",
     "output_type": "stream",
     "text": [
      "Mul_Static: 42\n"
     ]
    }
   ],
   "source": [
    "class calc:\n",
    "    def __init__(s,a,b):\n",
    "        s.a=a\n",
    "        s.b=b\n",
    "    def add(s):\n",
    "        return s.a+s.b\n",
    "    @classmethod\n",
    "    def input(cls):\n",
    "        a=int(input(\"enter number\"))\n",
    "        b=int(input(\"enter 2nd number\"))\n",
    "        return cls(a,b)\n",
    "    @staticmethod\n",
    "    def mul(x,y):\n",
    "        return x*y\n",
    "c=calc.input()\n",
    "print(\"Assition_Instance:\", c.add())\n",
    "x=int(input(\"enter number for mul:\"))\n",
    "y=int(input(\"enter anothe number\"))\n",
    "print(\"Mul_Static:\", c.mul(x,y))"
   ]
  },
  {
   "cell_type": "code",
   "execution_count": null,
   "id": "05868179-038b-4d11-83c0-18596d6c88c6",
   "metadata": {},
   "outputs": [],
   "source": [
    "30-07-2025"
   ]
  },
  {
   "cell_type": "code",
   "execution_count": null,
   "id": "a2ac0bb7-2281-44c3-8cec-8e205ee26de0",
   "metadata": {},
   "outputs": [],
   "source": []
  }
 ],
 "metadata": {
  "kernelspec": {
   "display_name": "Python 3 (ipykernel)",
   "language": "python",
   "name": "python3"
  },
  "language_info": {
   "codemirror_mode": {
    "name": "ipython",
    "version": 3
   },
   "file_extension": ".py",
   "mimetype": "text/x-python",
   "name": "python",
   "nbconvert_exporter": "python",
   "pygments_lexer": "ipython3",
   "version": "3.12.7"
  }
 },
 "nbformat": 4,
 "nbformat_minor": 5
}
